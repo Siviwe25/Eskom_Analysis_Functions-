{
  "nbformat": 4,
  "nbformat_minor": 0,
  "metadata": {
    "kernelspec": {
      "language": "python",
      "display_name": "Python 3",
      "name": "python3"
    },
    "language_info": {
      "pygments_lexer": "ipython3",
      "nbconvert_exporter": "python",
      "version": "3.6.4",
      "file_extension": ".py",
      "codemirror_mode": {
        "name": "ipython",
        "version": 3
      },
      "name": "python",
      "mimetype": "text/x-python"
    },
    "colab": {
      "name": "Team_3_CPT_Final.ipynb",
      "provenance": [],
      "include_colab_link": true
    }
  },
  "cells": [
    {
      "cell_type": "markdown",
      "metadata": {
        "id": "view-in-github",
        "colab_type": "text"
      },
      "source": [
        "<a href=\"https://colab.research.google.com/github/Siviwe25/Eskom_Analysis_Functions-/blob/master/Team_3_CPT_Final.ipynb\" target=\"_parent\"><img src=\"https://colab.research.google.com/assets/colab-badge.svg\" alt=\"Open In Colab\"/></a>"
      ]
    },
    {
      "cell_type": "code",
      "metadata": {
        "trusted": true,
        "id": "7IKcagfN0mah",
        "colab_type": "code",
        "colab": {},
        "outputId": "3cc3a73c-af17-46e8-faea-1377d5083b32"
      },
      "source": [
        "# This Python 3 environment comes with many helpful analytics libraries installed\n",
        "# It is defined by the kaggle/python Docker image: https://github.com/kaggle/docker-python\n",
        "# For example, here's several helpful packages to load\n",
        "\n",
        "import numpy as np # linear algebra\n",
        "import pandas as pd # data processing, CSV file I/O (e.g. pd.read_csv)\n",
        "\n",
        "# Input data files are available in the read-only \"../input/\" directory\n",
        "# For example, running this (by clicking run or pressing Shift+Enter) will list all files under the input directory\n",
        "\n",
        "import os\n",
        "for dirname, _, filenames in os.walk('/kaggle/input'):\n",
        "    for filename in filenames:\n",
        "        print(os.path.join(dirname, filename))\n",
        "\n",
        "# You can write up to 5GB to the current directory (/kaggle/working/) that gets preserved as output when you create a version using \"Save & Run All\" \n",
        "# You can also write temporary files to /kaggle/temp/, but they won't be saved outside of the current session"
      ],
      "execution_count": null,
      "outputs": [
        {
          "output_type": "stream",
          "text": [
            "/kaggle/input/edsa-recommender-system-predict/tags.csv\n",
            "/kaggle/input/edsa-recommender-system-predict/genome_scores.csv\n",
            "/kaggle/input/edsa-recommender-system-predict/test.csv\n",
            "/kaggle/input/edsa-recommender-system-predict/sample_submission.csv\n",
            "/kaggle/input/edsa-recommender-system-predict/imdb_data.csv\n",
            "/kaggle/input/edsa-recommender-system-predict/train.csv\n",
            "/kaggle/input/edsa-recommender-system-predict/movies.csv\n",
            "/kaggle/input/edsa-recommender-system-predict/genome_tags.csv\n",
            "/kaggle/input/edsa-recommender-system-predict/links.csv\n"
          ],
          "name": "stdout"
        }
      ]
    },
    {
      "cell_type": "markdown",
      "metadata": {
        "id": "Sx0gpIuazNU8",
        "colab_type": "text"
      },
      "source": [
        "# EDSA Movie Recommendation Challenge: Team_3_CPT\n"
      ]
    },
    {
      "cell_type": "markdown",
      "metadata": {
        "id": "adckiCS-zNU-",
        "colab_type": "text"
      },
      "source": [
        "# Introduction"
      ]
    },
    {
      "cell_type": "markdown",
      "metadata": {
        "id": "amjCVgDAqpnj",
        "colab_type": "text"
      },
      "source": [
        "**Problem** : Predicting how a user will rate a movie they have not yet viewed based on their historical preferences."
      ]
    },
    {
      "cell_type": "markdown",
      "metadata": {
        "id": "1E3S80u1zNVG",
        "colab_type": "text"
      },
      "source": [
        "In today’s technology driven world, recommender systems are socially and economically critical for ensuring that individuals can make appropriate choices surrounding the content they engage with on a daily basis. One application where this is especially true surrounds movie content recommendations; where intelligent algorithms can help viewers find great titles from tens of thousands of options.\n",
        "\n",
        "Providing an accurate and robust solution to this challenge has immense economic potential, with users of the system being exposed to content they would like to view or purchase - generating revenue and platform affinity."
      ]
    },
    {
      "cell_type": "markdown",
      "metadata": {
        "id": "EYqtYYwDi05s",
        "colab_type": "text"
      },
      "source": [
        "# Comet"
      ]
    },
    {
      "cell_type": "code",
      "metadata": {
        "id": "vaEcWXe9jHvb",
        "trusted": true,
        "colab_type": "code",
        "colab": {},
        "outputId": "6556109b-6b49-44ba-8fd3-3521d80fb218"
      },
      "source": [
        "!pip install comet_ml"
      ],
      "execution_count": null,
      "outputs": [
        {
          "output_type": "stream",
          "text": [
            "Requirement already satisfied: comet_ml in /opt/conda/lib/python3.7/site-packages (3.1.14)\n",
            "Requirement already satisfied: six in /opt/conda/lib/python3.7/site-packages (from comet_ml) (1.14.0)\n",
            "Requirement already satisfied: netifaces>=0.10.7 in /opt/conda/lib/python3.7/site-packages (from comet_ml) (0.10.9)\n",
            "Requirement already satisfied: wrapt>=1.11.2 in /opt/conda/lib/python3.7/site-packages (from comet_ml) (1.11.2)\n",
            "Requirement already satisfied: wurlitzer>=1.0.2 in /opt/conda/lib/python3.7/site-packages (from comet_ml) (2.0.0)\n",
            "Requirement already satisfied: requests>=2.18.4 in /opt/conda/lib/python3.7/site-packages (from comet_ml) (2.23.0)\n",
            "Requirement already satisfied: websocket-client>=0.55.0 in /opt/conda/lib/python3.7/site-packages (from comet_ml) (0.57.0)\n",
            "Requirement already satisfied: jsonschema!=3.1.0,>=2.6.0 in /opt/conda/lib/python3.7/site-packages (from comet_ml) (3.2.0)\n",
            "Requirement already satisfied: comet-git-pure>=0.19.11 in /opt/conda/lib/python3.7/site-packages (from comet_ml) (0.19.16)\n",
            "Requirement already satisfied: nvidia-ml-py3>=7.352.0 in /opt/conda/lib/python3.7/site-packages (from comet_ml) (7.352.0)\n",
            "Requirement already satisfied: everett[ini]>=1.0.1; python_version >= \"3.0\" in /opt/conda/lib/python3.7/site-packages (from comet_ml) (1.0.2)\n",
            "Requirement already satisfied: certifi>=2017.4.17 in /opt/conda/lib/python3.7/site-packages (from requests>=2.18.4->comet_ml) (2020.6.20)\n",
            "Requirement already satisfied: chardet<4,>=3.0.2 in /opt/conda/lib/python3.7/site-packages (from requests>=2.18.4->comet_ml) (3.0.4)\n",
            "Requirement already satisfied: urllib3!=1.25.0,!=1.25.1,<1.26,>=1.21.1 in /opt/conda/lib/python3.7/site-packages (from requests>=2.18.4->comet_ml) (1.24.3)\n",
            "Requirement already satisfied: idna<3,>=2.5 in /opt/conda/lib/python3.7/site-packages (from requests>=2.18.4->comet_ml) (2.9)\n",
            "Requirement already satisfied: pyrsistent>=0.14.0 in /opt/conda/lib/python3.7/site-packages (from jsonschema!=3.1.0,>=2.6.0->comet_ml) (0.16.0)\n",
            "Requirement already satisfied: importlib-metadata; python_version < \"3.8\" in /opt/conda/lib/python3.7/site-packages (from jsonschema!=3.1.0,>=2.6.0->comet_ml) (1.6.0)\n",
            "Requirement already satisfied: attrs>=17.4.0 in /opt/conda/lib/python3.7/site-packages (from jsonschema!=3.1.0,>=2.6.0->comet_ml) (19.3.0)\n",
            "Requirement already satisfied: setuptools in /opt/conda/lib/python3.7/site-packages (from jsonschema!=3.1.0,>=2.6.0->comet_ml) (46.1.3.post20200325)\n",
            "Requirement already satisfied: configobj; extra == \"ini\" in /opt/conda/lib/python3.7/site-packages (from everett[ini]>=1.0.1; python_version >= \"3.0\"->comet_ml) (5.0.6)\n",
            "Requirement already satisfied: zipp>=0.5 in /opt/conda/lib/python3.7/site-packages (from importlib-metadata; python_version < \"3.8\"->jsonschema!=3.1.0,>=2.6.0->comet_ml) (3.1.0)\n"
          ],
          "name": "stdout"
        }
      ]
    },
    {
      "cell_type": "code",
      "metadata": {
        "id": "Hhexihw7jQAK",
        "trusted": true,
        "colab_type": "code",
        "colab": {},
        "outputId": "75582cc6-a0de-45aa-f361-30f3a32a975d"
      },
      "source": [
        "!pip3 install comet_ml"
      ],
      "execution_count": null,
      "outputs": [
        {
          "output_type": "stream",
          "text": [
            "Requirement already satisfied: comet_ml in /opt/conda/lib/python3.7/site-packages (3.1.14)\n",
            "Requirement already satisfied: wurlitzer>=1.0.2 in /opt/conda/lib/python3.7/site-packages (from comet_ml) (2.0.0)\n",
            "Requirement already satisfied: six in /opt/conda/lib/python3.7/site-packages (from comet_ml) (1.14.0)\n",
            "Requirement already satisfied: jsonschema!=3.1.0,>=2.6.0 in /opt/conda/lib/python3.7/site-packages (from comet_ml) (3.2.0)\n",
            "Requirement already satisfied: everett[ini]>=1.0.1; python_version >= \"3.0\" in /opt/conda/lib/python3.7/site-packages (from comet_ml) (1.0.2)\n",
            "Requirement already satisfied: netifaces>=0.10.7 in /opt/conda/lib/python3.7/site-packages (from comet_ml) (0.10.9)\n",
            "Requirement already satisfied: comet-git-pure>=0.19.11 in /opt/conda/lib/python3.7/site-packages (from comet_ml) (0.19.16)\n",
            "Requirement already satisfied: requests>=2.18.4 in /opt/conda/lib/python3.7/site-packages (from comet_ml) (2.23.0)\n",
            "Requirement already satisfied: nvidia-ml-py3>=7.352.0 in /opt/conda/lib/python3.7/site-packages (from comet_ml) (7.352.0)\n",
            "Requirement already satisfied: websocket-client>=0.55.0 in /opt/conda/lib/python3.7/site-packages (from comet_ml) (0.57.0)\n",
            "Requirement already satisfied: wrapt>=1.11.2 in /opt/conda/lib/python3.7/site-packages (from comet_ml) (1.11.2)\n",
            "Requirement already satisfied: pyrsistent>=0.14.0 in /opt/conda/lib/python3.7/site-packages (from jsonschema!=3.1.0,>=2.6.0->comet_ml) (0.16.0)\n",
            "Requirement already satisfied: importlib-metadata; python_version < \"3.8\" in /opt/conda/lib/python3.7/site-packages (from jsonschema!=3.1.0,>=2.6.0->comet_ml) (1.6.0)\n",
            "Requirement already satisfied: attrs>=17.4.0 in /opt/conda/lib/python3.7/site-packages (from jsonschema!=3.1.0,>=2.6.0->comet_ml) (19.3.0)\n",
            "Requirement already satisfied: setuptools in /opt/conda/lib/python3.7/site-packages (from jsonschema!=3.1.0,>=2.6.0->comet_ml) (46.1.3.post20200325)\n",
            "Requirement already satisfied: configobj; extra == \"ini\" in /opt/conda/lib/python3.7/site-packages (from everett[ini]>=1.0.1; python_version >= \"3.0\"->comet_ml) (5.0.6)\n",
            "Requirement already satisfied: certifi in /opt/conda/lib/python3.7/site-packages (from comet-git-pure>=0.19.11->comet_ml) (2020.6.20)\n",
            "Requirement already satisfied: urllib3>=1.24.1 in /opt/conda/lib/python3.7/site-packages (from comet-git-pure>=0.19.11->comet_ml) (1.24.3)\n",
            "Requirement already satisfied: idna<3,>=2.5 in /opt/conda/lib/python3.7/site-packages (from requests>=2.18.4->comet_ml) (2.9)\n",
            "Requirement already satisfied: chardet<4,>=3.0.2 in /opt/conda/lib/python3.7/site-packages (from requests>=2.18.4->comet_ml) (3.0.4)\n",
            "Requirement already satisfied: zipp>=0.5 in /opt/conda/lib/python3.7/site-packages (from importlib-metadata; python_version < \"3.8\"->jsonschema!=3.1.0,>=2.6.0->comet_ml) (3.1.0)\n"
          ],
          "name": "stdout"
        }
      ]
    },
    {
      "cell_type": "code",
      "metadata": {
        "trusted": true,
        "id": "mIXLVTT40mbS",
        "colab_type": "code",
        "colab": {},
        "outputId": "3602ab14-6ced-43d0-b5ce-36b084868f0a"
      },
      "source": [
        "# Import comet_ml in the top of your file\n",
        "from comet_ml import Experiment\n",
        "\n",
        "experiment = Experiment(api_key=\"27Am1kAXT7xNIExj5xU7o6rx0\",\n",
        "                        project_name=\"general\", workspace=\"siviwe25\")"
      ],
      "execution_count": null,
      "outputs": [
        {
          "output_type": "stream",
          "text": [
            "COMET INFO: ---------------------------\n",
            "COMET INFO: Comet.ml Experiment Summary\n",
            "COMET INFO: ---------------------------\n",
            "COMET INFO:   Data:\n",
            "COMET INFO:     display_summary_level : 1\n",
            "COMET INFO:     url                   : https://www.comet.ml/siviwe25/general/d307bda1db514174b3ba814535da76d0\n",
            "COMET INFO:   Uploads:\n",
            "COMET INFO:     environment details : 1\n",
            "COMET INFO:     filename            : 1\n",
            "COMET INFO:     installed packages  : 1\n",
            "COMET INFO:     os packages         : 1\n",
            "COMET INFO: ---------------------------\n",
            "COMET INFO: Experiment is live on comet.ml https://www.comet.ml/siviwe25/general/5c7b397eaa734bf1bfbfd0d26cd0dd69\n",
            "\n"
          ],
          "name": "stderr"
        }
      ]
    },
    {
      "cell_type": "markdown",
      "metadata": {
        "id": "jOFmI_FopXxu",
        "colab_type": "text"
      },
      "source": [
        "# Imports"
      ]
    },
    {
      "cell_type": "code",
      "metadata": {
        "id": "4RuGkbsXpGZ7",
        "trusted": true,
        "colab_type": "code",
        "colab": {}
      },
      "source": [
        "#Importing the required packages\n",
        "%matplotlib inline\n",
        "import pandas as pd\n",
        "import numpy as np\n",
        "import matplotlib.pyplot as plt\n",
        "import seaborn as sns\n",
        "from scipy import stats\n",
        "from ast import literal_eval\n",
        "from sklearn.feature_extraction.text import TfidfVectorizer, CountVectorizer\n",
        "from sklearn.metrics.pairwise import linear_kernel, cosine_similarity\n",
        "from nltk.stem.snowball import SnowballStemmer\n",
        "from nltk.stem.wordnet import WordNetLemmatizer\n",
        "from nltk.corpus import wordnet\n",
        "import warnings; warnings.simplefilter('ignore')\n",
        "from collections import defaultdict\n",
        "from wordcloud import WordCloud\n",
        "from pandas import Series, DataFrame"
      ],
      "execution_count": null,
      "outputs": []
    },
    {
      "cell_type": "markdown",
      "metadata": {
        "id": "-3X8NnIuzNVR",
        "colab_type": "text"
      },
      "source": [
        "# Exploratory Data Analysis"
      ]
    },
    {
      "cell_type": "markdown",
      "metadata": {
        "id": "0WmAn7uaouZG",
        "colab_type": "text"
      },
      "source": [
        "In this section we will be diving deep into the data and what it offers.\n",
        "We will be doing thorough analysis and grabbing insights.\n",
        "\n",
        "We will start by:\n",
        "* Loading the data\n",
        "* Viewing the data\n",
        "* Checking for nan values\n",
        "* Checking the shapes\n",
        "* Adding visual comparisons"
      ]
    },
    {
      "cell_type": "code",
      "metadata": {
        "id": "T0tmkXHgmQoj",
        "trusted": true,
        "colab_type": "code",
        "colab": {},
        "outputId": "0339498c-1903-474e-a2bd-c5430bf85e73"
      },
      "source": [
        "# Loading the data\n",
        "train = pd.read_csv('/kaggle/input/edsa-recommender-system-predict/train.csv')\n",
        "test = pd.read_csv('/kaggle/input/edsa-recommender-system-predict/test.csv')\n",
        "movies = pd.read_csv('/kaggle/input/edsa-recommender-system-predict/movies.csv')\n",
        "imdb = pd.read_csv('/kaggle/input/edsa-recommender-system-predict/imdb_data.csv')\n",
        "\n",
        "# Viewing the data\n",
        "train.head()\n"
      ],
      "execution_count": null,
      "outputs": [
        {
          "output_type": "execute_result",
          "data": {
            "text/plain": [
              "   userId  movieId  rating   timestamp\n",
              "0    5163    57669     4.0  1518349992\n",
              "1  106343        5     4.5  1206238739\n",
              "2  146790     5459     5.0  1076215539\n",
              "3  106362    32296     2.0  1423042565\n",
              "4    9041      366     3.0   833375837"
            ],
            "text/html": [
              "<div>\n",
              "<style scoped>\n",
              "    .dataframe tbody tr th:only-of-type {\n",
              "        vertical-align: middle;\n",
              "    }\n",
              "\n",
              "    .dataframe tbody tr th {\n",
              "        vertical-align: top;\n",
              "    }\n",
              "\n",
              "    .dataframe thead th {\n",
              "        text-align: right;\n",
              "    }\n",
              "</style>\n",
              "<table border=\"1\" class=\"dataframe\">\n",
              "  <thead>\n",
              "    <tr style=\"text-align: right;\">\n",
              "      <th></th>\n",
              "      <th>userId</th>\n",
              "      <th>movieId</th>\n",
              "      <th>rating</th>\n",
              "      <th>timestamp</th>\n",
              "    </tr>\n",
              "  </thead>\n",
              "  <tbody>\n",
              "    <tr>\n",
              "      <th>0</th>\n",
              "      <td>5163</td>\n",
              "      <td>57669</td>\n",
              "      <td>4.0</td>\n",
              "      <td>1518349992</td>\n",
              "    </tr>\n",
              "    <tr>\n",
              "      <th>1</th>\n",
              "      <td>106343</td>\n",
              "      <td>5</td>\n",
              "      <td>4.5</td>\n",
              "      <td>1206238739</td>\n",
              "    </tr>\n",
              "    <tr>\n",
              "      <th>2</th>\n",
              "      <td>146790</td>\n",
              "      <td>5459</td>\n",
              "      <td>5.0</td>\n",
              "      <td>1076215539</td>\n",
              "    </tr>\n",
              "    <tr>\n",
              "      <th>3</th>\n",
              "      <td>106362</td>\n",
              "      <td>32296</td>\n",
              "      <td>2.0</td>\n",
              "      <td>1423042565</td>\n",
              "    </tr>\n",
              "    <tr>\n",
              "      <th>4</th>\n",
              "      <td>9041</td>\n",
              "      <td>366</td>\n",
              "      <td>3.0</td>\n",
              "      <td>833375837</td>\n",
              "    </tr>\n",
              "  </tbody>\n",
              "</table>\n",
              "</div>"
            ]
          },
          "metadata": {
            "tags": []
          },
          "execution_count": 20
        }
      ]
    },
    {
      "cell_type": "code",
      "metadata": {
        "id": "0u0Q6Dqluf2Q",
        "trusted": true,
        "colab_type": "code",
        "colab": {},
        "outputId": "6ee94544-c6e8-4194-fb8d-beb3f6093b5b"
      },
      "source": [
        "# Checking the shape\n",
        "train.shape\n"
      ],
      "execution_count": null,
      "outputs": [
        {
          "output_type": "execute_result",
          "data": {
            "text/plain": [
              "(10000038, 4)"
            ]
          },
          "metadata": {
            "tags": []
          },
          "execution_count": 21
        }
      ]
    },
    {
      "cell_type": "code",
      "metadata": {
        "id": "Glron82LqIuC",
        "trusted": true,
        "colab_type": "code",
        "colab": {},
        "outputId": "222166e7-eb47-44c6-85bf-5c80f7938f64"
      },
      "source": [
        "# Looking for nan values\n",
        "train.isna().sum()\n"
      ],
      "execution_count": null,
      "outputs": [
        {
          "output_type": "execute_result",
          "data": {
            "text/plain": [
              "userId       0\n",
              "movieId      0\n",
              "rating       0\n",
              "timestamp    0\n",
              "dtype: int64"
            ]
          },
          "metadata": {
            "tags": []
          },
          "execution_count": 22
        }
      ]
    },
    {
      "cell_type": "code",
      "metadata": {
        "id": "evh7ahxozNVp",
        "trusted": true,
        "colab_type": "code",
        "colab": {},
        "outputId": "b91b5057-c88f-4f89-8c57-5e3d2ab761c4"
      },
      "source": [
        "# Checking the shape\n",
        "test.shape\n"
      ],
      "execution_count": null,
      "outputs": [
        {
          "output_type": "execute_result",
          "data": {
            "text/plain": [
              "(5000019, 2)"
            ]
          },
          "metadata": {
            "tags": []
          },
          "execution_count": 23
        }
      ]
    },
    {
      "cell_type": "code",
      "metadata": {
        "id": "xlDQigDczNVw",
        "trusted": true,
        "colab_type": "code",
        "colab": {},
        "outputId": "56ab0c91-c49a-4b40-9fe7-82f2a2811695"
      },
      "source": [
        "# Looking for nan values\n",
        "test.isna().sum()\n"
      ],
      "execution_count": null,
      "outputs": [
        {
          "output_type": "execute_result",
          "data": {
            "text/plain": [
              "userId     0\n",
              "movieId    0\n",
              "dtype: int64"
            ]
          },
          "metadata": {
            "tags": []
          },
          "execution_count": 24
        }
      ]
    },
    {
      "cell_type": "markdown",
      "metadata": {
        "id": "33qr6K1fE64Y",
        "colab_type": "text"
      },
      "source": [
        "Conclusion: Both the train and test datasets contain no missing values. We find the given data to be extremely clean and require little preprocessing."
      ]
    },
    {
      "cell_type": "markdown",
      "metadata": {
        "id": "s8CrtbVppHsR",
        "colab_type": "text"
      },
      "source": [
        "# Visualising and grabbing insights:"
      ]
    },
    {
      "cell_type": "markdown",
      "metadata": {
        "id": "3uUdx8wBpRWo",
        "colab_type": "text"
      },
      "source": [
        "We will dive deeper into the data and extract some insights which might help us solve the problem. \n",
        "\n",
        "We make use of graphs to visualise some key aspects of the datasets.\n"
      ]
    },
    {
      "cell_type": "code",
      "metadata": {
        "id": "CTyk29BfzNV9",
        "trusted": true,
        "colab_type": "code",
        "colab": {}
      },
      "source": [
        "# A function created for changing the labels.\n",
        "def changingLabels(number):\n",
        "    return str(number/10**6) + \"M\"\n",
        "    "
      ],
      "execution_count": null,
      "outputs": []
    },
    {
      "cell_type": "markdown",
      "metadata": {
        "id": "QMvyCJrGsLnD",
        "colab_type": "text"
      },
      "source": [
        "This bar graph visualises the distribution of ratings in the train data"
      ]
    },
    {
      "cell_type": "code",
      "metadata": {
        "id": "NewmynsmzNWC",
        "trusted": true,
        "colab_type": "code",
        "colab": {},
        "outputId": "e725b606-9f81-459a-d09a-6071ae5f5f36"
      },
      "source": [
        "# Plotting a bar graph to visualise distribution of ratings in the train data\n",
        "plt.figure(figsize=(12, 8))\n",
        "ax = sns.countplot(x=\"rating\", data=train)\n",
        "ax.set_yticklabels([changingLabels(num) for num in ax.get_yticks()])\n",
        "plt.tick_params(labelsize=15)\n",
        "plt.title(\"Distribution of Ratings in Train data\", fontsize=20)\n",
        "plt.xlabel(\"Rating\", fontsize=20)\n",
        "plt.ylabel(\"Number of Ratings (Millions)\", fontsize=20)\n",
        "plt.show()\n"
      ],
      "execution_count": null,
      "outputs": [
        {
          "output_type": "display_data",
          "data": {
            "text/plain": [
              "<Figure size 864x576 with 1 Axes>"
            ],
            "image/png": "[encoded data removed]"
          },
          "metadata": {
            "tags": [],
            "needs_background": "light"
          }
        }
      ]
    },
    {
      "cell_type": "markdown",
      "metadata": {
        "id": "OyHIbmUxzNWK",
        "colab_type": "text"
      },
      "source": [
        "We can clearly see that Ratings equal to 4.0 are most common.\n",
        "\n",
        "We believe that the reasons for this might be because it is likely that people who truely enjoyed a specific movie will never be 100% satisfied with the movie. Giving a 5.0 rating would indicate a truly perfect movie from the watchers perspective, which is very rare. The closest best thing to 5.0 without seeming bias is 4.0, therefore 4.0 ratings are most common."
      ]
    },
    {
      "cell_type": "code",
      "metadata": {
        "id": "eBmqvIS_zNWL",
        "trusted": true,
        "colab_type": "code",
        "colab": {}
      },
      "source": [
        "# Getting the number of ratings per movie\n",
        "no_of_ratings_per_movie = train.groupby(by=\"movieId\")[\"rating\"].count().sort_values(ascending=False)\n"
      ],
      "execution_count": null,
      "outputs": []
    },
    {
      "cell_type": "markdown",
      "metadata": {
        "id": "Bacr0bEvtl6E",
        "colab_type": "text"
      },
      "source": [
        "This line graph visualises the number of ratings per movie"
      ]
    },
    {
      "cell_type": "code",
      "metadata": {
        "id": "nwQMm2_izNWT",
        "trusted": true,
        "colab_type": "code",
        "colab": {},
        "outputId": "c263af01-5b76-44f4-8047-fb6c34adb350"
      },
      "source": [
        "# Plotting a line graph to visualise distribution of ratings in the train data\n",
        "fig = plt.figure(figsize=(12, 6))\n",
        "axes = fig.add_axes([0.1, 0.1, 1, 1])\n",
        "plt.title(\"Number of Ratings Per Movie\", fontsize=20)\n",
        "plt.xlabel(\"Movie\", fontsize=20)\n",
        "plt.ylabel(\"Count of Ratings\", fontsize=20)\n",
        "plt.plot(no_of_ratings_per_movie.values)\n",
        "plt.tick_params(labelsize=5)\n",
        "axes.set_xticklabels([])\n",
        "plt.show()\n"
      ],
      "execution_count": null,
      "outputs": [
        {
          "output_type": "display_data",
          "data": {
            "text/plain": [
              "<Figure size 864x432 with 1 Axes>"
            ],
            "image/png": "[encoded data removed]"
          },
          "metadata": {
            "tags": [],
            "needs_background": "light"
          }
        }
      ]
    },
    {
      "cell_type": "markdown",
      "metadata": {
        "id": "34Ztyq_wzNWc",
        "colab_type": "text"
      },
      "source": [
        "The above line graph shows that there are some movies that receive many ratings and some movies that receive very little votes.\n",
        "\n",
        "We believe the reason for this can be the fact that some mainstream movies are way more popular and therefore receive a lot of attention compared to the other movies. "
      ]
    },
    {
      "cell_type": "code",
      "metadata": {
        "id": "7pEqN5WGzNWd",
        "trusted": true,
        "colab_type": "code",
        "colab": {},
        "outputId": "e8864538-f793-41d0-d8e5-448813ff32a3"
      },
      "source": [
        "# Getting the number of movies rated per user\n",
        "no_of_rated_movies_per_user = train.groupby(by=\"userId\")[\"rating\"].count().sort_values(ascending=False)\n",
        "no_of_rated_movies_per_user.head(10)\n"
      ],
      "execution_count": null,
      "outputs": [
        {
          "output_type": "execute_result",
          "data": {
            "text/plain": [
              "userId\n",
              "72315     12952\n",
              "80974      3680\n",
              "137293     3588\n",
              "33844      3208\n",
              "20055      3050\n",
              "109731     2671\n",
              "49403      2670\n",
              "92046      2579\n",
              "110971     2288\n",
              "30879      2284\n",
              "Name: rating, dtype: int64"
            ]
          },
          "metadata": {
            "tags": []
          },
          "execution_count": 29
        }
      ]
    },
    {
      "cell_type": "markdown",
      "metadata": {
        "id": "xrUpwj6KuEAE",
        "colab_type": "text"
      },
      "source": [
        "We can clearly see that user: '72315' has rated, by far, the most movies."
      ]
    },
    {
      "cell_type": "markdown",
      "metadata": {
        "id": "W8uwYvpEuhK9",
        "colab_type": "text"
      },
      "source": [
        "Both the PDF and CDF graphs following give us a representation of how many users actually rate the movies they have watched."
      ]
    },
    {
      "cell_type": "code",
      "metadata": {
        "id": "JcKcYY5DzNWj",
        "trusted": true,
        "colab_type": "code",
        "colab": {},
        "outputId": "bd7ee9da-f00c-45f1-e90a-3f9346c956c0"
      },
      "source": [
        "# Plotting both an PDF and CDF to visualise movie ratings per user.\n",
        "fig, axes = plt.subplots(nrows=1, ncols=2, figsize=(14, 7))\n",
        "\n",
        "sns.kdeplot(no_of_rated_movies_per_user.values, shade=True, ax=axes[0])\n",
        "axes[0].set_title(\"PDF\", fontsize=18)\n",
        "axes[0].set_xlabel(\"Number of Ratings by user\", fontsize=18)\n",
        "axes[0].tick_params(labelsize=15)\n",
        "\n",
        "sns.kdeplot(no_of_rated_movies_per_user.values, shade=True, cumulative=True, ax=axes[1])\n",
        "axes[1].set_title(\"CDF\", fontsize=18)\n",
        "axes[1].set_xlabel(\"Number of Ratings by user\", fontsize=18)\n",
        "axes[1].tick_params(labelsize=15)\n",
        "\n",
        "fig.subplots_adjust(wspace=2)\n",
        "plt.tight_layout()\n",
        "plt.show()\n"
      ],
      "execution_count": null,
      "outputs": [
        {
          "output_type": "display_data",
          "data": {
            "text/plain": [
              "<Figure size 1008x504 with 2 Axes>"
            ],
            "image/png": "[encoded data removed]"
          },
          "metadata": {
            "tags": [],
            "needs_background": "light"
          }
        }
      ]
    },
    {
      "cell_type": "markdown",
      "metadata": {
        "id": "IsesMD1UnVtN",
        "colab_type": "text"
      },
      "source": [
        " Both the PDF and CDF clearly indicate that users give very few ratings."
      ]
    },
    {
      "cell_type": "markdown",
      "metadata": {
        "id": "LLjI-Fd2zNW0",
        "colab_type": "text"
      },
      "source": [
        "**Finding the most popular genre:**\n",
        "\n",
        "We began by creating a list of all the genres."
      ]
    },
    {
      "cell_type": "code",
      "metadata": {
        "id": "FVttKImGzNW1",
        "trusted": true,
        "colab_type": "code",
        "colab": {},
        "outputId": "607d53c9-30ab-4484-a41b-2fca12d58baa"
      },
      "source": [
        "# We began by creating a list of all the genres.\n",
        "temp = \"\"\n",
        "for i in movies.genres:\n",
        "    temp = temp+'|'+i\n",
        "genres_list = list(set(temp.split('|')))\n",
        "del genres_list[0]  # Data Cleaning\n",
        "genres_list\n"
      ],
      "execution_count": null,
      "outputs": [
        {
          "output_type": "execute_result",
          "data": {
            "text/plain": [
              "['Film-Noir',\n",
              " 'Adventure',\n",
              " 'Comedy',\n",
              " 'Animation',\n",
              " 'War',\n",
              " 'Drama',\n",
              " 'IMAX',\n",
              " 'Romance',\n",
              " 'Horror',\n",
              " 'Children',\n",
              " '(no genres listed)',\n",
              " 'Musical',\n",
              " 'Western',\n",
              " 'Sci-Fi',\n",
              " 'Thriller',\n",
              " 'Documentary',\n",
              " 'Crime',\n",
              " 'Fantasy',\n",
              " 'Action',\n",
              " 'Mystery']"
            ]
          },
          "metadata": {
            "tags": []
          },
          "execution_count": 31
        }
      ]
    },
    {
      "cell_type": "code",
      "metadata": {
        "id": "vAdrUSrwnVta",
        "trusted": true,
        "colab_type": "code",
        "colab": {}
      },
      "source": [
        "# Split genres and create a new entry for each genre a movie falls into\n",
        "s = movies['genres'].str.split('|').apply(Series, 1).stack()\n",
        "s.index = s.index.droplevel(-1)\n",
        "s.name = 'genres'\n",
        "del movies['genres']\n",
        "movies_split_genres = movies.join(s)\n"
      ],
      "execution_count": null,
      "outputs": []
    },
    {
      "cell_type": "markdown",
      "metadata": {
        "id": "pk2PByLBwnXd",
        "colab_type": "text"
      },
      "source": [
        "This way we can see all the genres a movie falls into more more clearly."
      ]
    },
    {
      "cell_type": "code",
      "metadata": {
        "id": "dgoCC5C0nVtc",
        "trusted": true,
        "colab_type": "code",
        "colab": {},
        "outputId": "c552da49-bbdf-425a-cab7-0b6773502fc0"
      },
      "source": [
        "movies_split_genres.head(7)\n"
      ],
      "execution_count": null,
      "outputs": [
        {
          "output_type": "execute_result",
          "data": {
            "text/plain": [
              "   movieId             title     genres\n",
              "0        1  Toy Story (1995)  Adventure\n",
              "0        1  Toy Story (1995)  Animation\n",
              "0        1  Toy Story (1995)   Children\n",
              "0        1  Toy Story (1995)     Comedy\n",
              "0        1  Toy Story (1995)    Fantasy\n",
              "1        2    Jumanji (1995)  Adventure\n",
              "1        2    Jumanji (1995)   Children"
            ],
            "text/html": [
              "<div>\n",
              "<style scoped>\n",
              "    .dataframe tbody tr th:only-of-type {\n",
              "        vertical-align: middle;\n",
              "    }\n",
              "\n",
              "    .dataframe tbody tr th {\n",
              "        vertical-align: top;\n",
              "    }\n",
              "\n",
              "    .dataframe thead th {\n",
              "        text-align: right;\n",
              "    }\n",
              "</style>\n",
              "<table border=\"1\" class=\"dataframe\">\n",
              "  <thead>\n",
              "    <tr style=\"text-align: right;\">\n",
              "      <th></th>\n",
              "      <th>movieId</th>\n",
              "      <th>title</th>\n",
              "      <th>genres</th>\n",
              "    </tr>\n",
              "  </thead>\n",
              "  <tbody>\n",
              "    <tr>\n",
              "      <th>0</th>\n",
              "      <td>1</td>\n",
              "      <td>Toy Story (1995)</td>\n",
              "      <td>Adventure</td>\n",
              "    </tr>\n",
              "    <tr>\n",
              "      <th>0</th>\n",
              "      <td>1</td>\n",
              "      <td>Toy Story (1995)</td>\n",
              "      <td>Animation</td>\n",
              "    </tr>\n",
              "    <tr>\n",
              "      <th>0</th>\n",
              "      <td>1</td>\n",
              "      <td>Toy Story (1995)</td>\n",
              "      <td>Children</td>\n",
              "    </tr>\n",
              "    <tr>\n",
              "      <th>0</th>\n",
              "      <td>1</td>\n",
              "      <td>Toy Story (1995)</td>\n",
              "      <td>Comedy</td>\n",
              "    </tr>\n",
              "    <tr>\n",
              "      <th>0</th>\n",
              "      <td>1</td>\n",
              "      <td>Toy Story (1995)</td>\n",
              "      <td>Fantasy</td>\n",
              "    </tr>\n",
              "    <tr>\n",
              "      <th>1</th>\n",
              "      <td>2</td>\n",
              "      <td>Jumanji (1995)</td>\n",
              "      <td>Adventure</td>\n",
              "    </tr>\n",
              "    <tr>\n",
              "      <th>1</th>\n",
              "      <td>2</td>\n",
              "      <td>Jumanji (1995)</td>\n",
              "      <td>Children</td>\n",
              "    </tr>\n",
              "  </tbody>\n",
              "</table>\n",
              "</div>"
            ]
          },
          "metadata": {
            "tags": []
          },
          "execution_count": 33
        }
      ]
    },
    {
      "cell_type": "code",
      "metadata": {
        "id": "ZZSgNXOMnVte",
        "trusted": true,
        "colab_type": "code",
        "colab": {},
        "outputId": "e497b673-7317-4b11-c504-723f3a57d31e"
      },
      "source": [
        "# How many different genres do we have?\n",
        "len(movies_split_genres['genres'].unique())"
      ],
      "execution_count": null,
      "outputs": [
        {
          "output_type": "execute_result",
          "data": {
            "text/plain": [
              "20"
            ]
          },
          "metadata": {
            "tags": []
          },
          "execution_count": 34
        }
      ]
    },
    {
      "cell_type": "markdown",
      "metadata": {
        "id": "Nj9A_uWwnVth",
        "colab_type": "text"
      },
      "source": [
        "We have a movies dataset from 20 unique genres.\n",
        "\n",
        "Next we will look at how many movies there are of each genre."
      ]
    },
    {
      "cell_type": "code",
      "metadata": {
        "id": "xIo1ZJF5nVti",
        "trusted": true,
        "colab_type": "code",
        "colab": {},
        "outputId": "9ced524f-8cec-472a-83e5-babf13cc91e9"
      },
      "source": [
        "# Group movies by genre using title as unique identifier and display all genres.\n",
        "movies_genre = (pd.DataFrame(movies_split_genres.groupby('genres').title.nunique())).sort_values('title', ascending=True)\n",
        "movies_genre.head(20)\n"
      ],
      "execution_count": null,
      "outputs": [
        {
          "output_type": "execute_result",
          "data": {
            "text/plain": [
              "                    title\n",
              "genres                   \n",
              "IMAX                  195\n",
              "Film-Noir             353\n",
              "Musical              1054\n",
              "Western              1399\n",
              "War                  1874\n",
              "Fantasy              2731\n",
              "Mystery              2925\n",
              "Animation            2928\n",
              "Children             2934\n",
              "Sci-Fi               3591\n",
              "Adventure            4142\n",
              "(no genres listed)   5062\n",
              "Crime                5316\n",
              "Documentary          5603\n",
              "Horror               5983\n",
              "Action               7346\n",
              "Romance              7716\n",
              "Thriller             8641\n",
              "Comedy              16861\n",
              "Drama               25581"
            ],
            "text/html": [
              "<div>\n",
              "<style scoped>\n",
              "    .dataframe tbody tr th:only-of-type {\n",
              "        vertical-align: middle;\n",
              "    }\n",
              "\n",
              "    .dataframe tbody tr th {\n",
              "        vertical-align: top;\n",
              "    }\n",
              "\n",
              "    .dataframe thead th {\n",
              "        text-align: right;\n",
              "    }\n",
              "</style>\n",
              "<table border=\"1\" class=\"dataframe\">\n",
              "  <thead>\n",
              "    <tr style=\"text-align: right;\">\n",
              "      <th></th>\n",
              "      <th>title</th>\n",
              "    </tr>\n",
              "    <tr>\n",
              "      <th>genres</th>\n",
              "      <th></th>\n",
              "    </tr>\n",
              "  </thead>\n",
              "  <tbody>\n",
              "    <tr>\n",
              "      <th>IMAX</th>\n",
              "      <td>195</td>\n",
              "    </tr>\n",
              "    <tr>\n",
              "      <th>Film-Noir</th>\n",
              "      <td>353</td>\n",
              "    </tr>\n",
              "    <tr>\n",
              "      <th>Musical</th>\n",
              "      <td>1054</td>\n",
              "    </tr>\n",
              "    <tr>\n",
              "      <th>Western</th>\n",
              "      <td>1399</td>\n",
              "    </tr>\n",
              "    <tr>\n",
              "      <th>War</th>\n",
              "      <td>1874</td>\n",
              "    </tr>\n",
              "    <tr>\n",
              "      <th>Fantasy</th>\n",
              "      <td>2731</td>\n",
              "    </tr>\n",
              "    <tr>\n",
              "      <th>Mystery</th>\n",
              "      <td>2925</td>\n",
              "    </tr>\n",
              "    <tr>\n",
              "      <th>Animation</th>\n",
              "      <td>2928</td>\n",
              "    </tr>\n",
              "    <tr>\n",
              "      <th>Children</th>\n",
              "      <td>2934</td>\n",
              "    </tr>\n",
              "    <tr>\n",
              "      <th>Sci-Fi</th>\n",
              "      <td>3591</td>\n",
              "    </tr>\n",
              "    <tr>\n",
              "      <th>Adventure</th>\n",
              "      <td>4142</td>\n",
              "    </tr>\n",
              "    <tr>\n",
              "      <th>(no genres listed)</th>\n",
              "      <td>5062</td>\n",
              "    </tr>\n",
              "    <tr>\n",
              "      <th>Crime</th>\n",
              "      <td>5316</td>\n",
              "    </tr>\n",
              "    <tr>\n",
              "      <th>Documentary</th>\n",
              "      <td>5603</td>\n",
              "    </tr>\n",
              "    <tr>\n",
              "      <th>Horror</th>\n",
              "      <td>5983</td>\n",
              "    </tr>\n",
              "    <tr>\n",
              "      <th>Action</th>\n",
              "      <td>7346</td>\n",
              "    </tr>\n",
              "    <tr>\n",
              "      <th>Romance</th>\n",
              "      <td>7716</td>\n",
              "    </tr>\n",
              "    <tr>\n",
              "      <th>Thriller</th>\n",
              "      <td>8641</td>\n",
              "    </tr>\n",
              "    <tr>\n",
              "      <th>Comedy</th>\n",
              "      <td>16861</td>\n",
              "    </tr>\n",
              "    <tr>\n",
              "      <th>Drama</th>\n",
              "      <td>25581</td>\n",
              "    </tr>\n",
              "  </tbody>\n",
              "</table>\n",
              "</div>"
            ]
          },
          "metadata": {
            "tags": []
          },
          "execution_count": 35
        }
      ]
    },
    {
      "cell_type": "markdown",
      "metadata": {
        "id": "Fq6DrVqNxvLA",
        "colab_type": "text"
      },
      "source": [
        "As you can see, the drama genre is by far the most popular genre in our dataset. We will be visualising this in a pie chart next."
      ]
    },
    {
      "cell_type": "code",
      "metadata": {
        "id": "BC1Fu4v6nVtk",
        "trusted": true,
        "colab_type": "code",
        "colab": {},
        "outputId": "9bc4357d-f2b4-48f0-bc1a-2bccb0056768"
      },
      "source": [
        "# Pie chart showing percentage of movies in each genre\n",
        "movies_genre['title'].plot.pie(title= 'Movies per Genre in %', figsize=(10,10), autopct='%1.1f%%',fontsize=15);\n"
      ],
      "execution_count": null,
      "outputs": [
        {
          "output_type": "display_data",
          "data": {
            "text/plain": [
              "<Figure size 720x720 with 1 Axes>"
            ],
            "image/png": "[encoded data removed]"
          },
          "metadata": {
            "tags": []
          }
        }
      ]
    },
    {
      "cell_type": "markdown",
      "metadata": {
        "id": "6nxJVKtbnVtl",
        "colab_type": "text"
      },
      "source": [
        "\n",
        "In this bar graph we can see that Drama and Comedy are by far most popular."
      ]
    },
    {
      "cell_type": "code",
      "metadata": {
        "id": "p8w7Rh6bnVtm",
        "trusted": true,
        "colab_type": "code",
        "colab": {},
        "outputId": "bec43fde-cc4b-4f90-cd96-6eaf90062c59"
      },
      "source": [
        "# Display in bar chart\n",
        "movies_genre['title'].plot.barh(title = 'Movies per Genre',color='DarkBlue', figsize=(10, 9));"
      ],
      "execution_count": null,
      "outputs": [
        {
          "output_type": "display_data",
          "data": {
            "text/plain": [
              "<Figure size 720x648 with 1 Axes>"
            ],
            "image/png": "[encoded data removed]"
          },
          "metadata": {
            "tags": [],
            "needs_background": "light"
          }
        }
      ]
    },
    {
      "cell_type": "markdown",
      "metadata": {
        "id": "Lcwboznnyv1n",
        "colab_type": "text"
      },
      "source": [
        "Lastly we will take a glimpse of the imdb dataset.\n",
        "\n",
        "We merged the imdb and movies dataframes for us to more effectively go about getting insights. "
      ]
    },
    {
      "cell_type": "code",
      "metadata": {
        "id": "Z6ASPgXLzNXR",
        "trusted": true,
        "colab_type": "code",
        "colab": {},
        "outputId": "999b8f2f-87fb-4481-d453-c427ba1ccbbe"
      },
      "source": [
        "imd_movies = movies.merge(imdb, on='movieId')\n",
        "imd_movies.head()"
      ],
      "execution_count": null,
      "outputs": [
        {
          "output_type": "execute_result",
          "data": {
            "text/plain": [
              "   movieId                               title  \\\n",
              "0        1                    Toy Story (1995)   \n",
              "1        2                      Jumanji (1995)   \n",
              "2        3             Grumpier Old Men (1995)   \n",
              "3        4            Waiting to Exhale (1995)   \n",
              "4        5  Father of the Bride Part II (1995)   \n",
              "\n",
              "                                          title_cast             director  \\\n",
              "0  Tom Hanks|Tim Allen|Don Rickles|Jim Varney|Wal...        John Lasseter   \n",
              "1  Robin Williams|Jonathan Hyde|Kirsten Dunst|Bra...   Jonathan Hensleigh   \n",
              "2  Walter Matthau|Jack Lemmon|Sophia Loren|Ann-Ma...  Mark Steven Johnson   \n",
              "3  Whitney Houston|Angela Bassett|Loretta Devine|...       Terry McMillan   \n",
              "4  Steve Martin|Diane Keaton|Martin Short|Kimberl...       Albert Hackett   \n",
              "\n",
              "   runtime       budget                                      plot_keywords  \n",
              "0     81.0  $30,000,000                   toy|rivalry|cowboy|cgi animation  \n",
              "1    104.0  $65,000,000                   board game|adventurer|fight|game  \n",
              "2    101.0  $25,000,000                         boat|lake|neighbor|rivalry  \n",
              "3    124.0  $16,000,000  black american|husband wife relationship|betra...  \n",
              "4    106.0  $30,000,000                    fatherhood|doberman|dog|mansion  "
            ],
            "text/html": [
              "<div>\n",
              "<style scoped>\n",
              "    .dataframe tbody tr th:only-of-type {\n",
              "        vertical-align: middle;\n",
              "    }\n",
              "\n",
              "    .dataframe tbody tr th {\n",
              "        vertical-align: top;\n",
              "    }\n",
              "\n",
              "    .dataframe thead th {\n",
              "        text-align: right;\n",
              "    }\n",
              "</style>\n",
              "<table border=\"1\" class=\"dataframe\">\n",
              "  <thead>\n",
              "    <tr style=\"text-align: right;\">\n",
              "      <th></th>\n",
              "      <th>movieId</th>\n",
              "      <th>title</th>\n",
              "      <th>title_cast</th>\n",
              "      <th>director</th>\n",
              "      <th>runtime</th>\n",
              "      <th>budget</th>\n",
              "      <th>plot_keywords</th>\n",
              "    </tr>\n",
              "  </thead>\n",
              "  <tbody>\n",
              "    <tr>\n",
              "      <th>0</th>\n",
              "      <td>1</td>\n",
              "      <td>Toy Story (1995)</td>\n",
              "      <td>Tom Hanks|Tim Allen|Don Rickles|Jim Varney|Wal...</td>\n",
              "      <td>John Lasseter</td>\n",
              "      <td>81.0</td>\n",
              "      <td>$30,000,000</td>\n",
              "      <td>toy|rivalry|cowboy|cgi animation</td>\n",
              "    </tr>\n",
              "    <tr>\n",
              "      <th>1</th>\n",
              "      <td>2</td>\n",
              "      <td>Jumanji (1995)</td>\n",
              "      <td>Robin Williams|Jonathan Hyde|Kirsten Dunst|Bra...</td>\n",
              "      <td>Jonathan Hensleigh</td>\n",
              "      <td>104.0</td>\n",
              "      <td>$65,000,000</td>\n",
              "      <td>board game|adventurer|fight|game</td>\n",
              "    </tr>\n",
              "    <tr>\n",
              "      <th>2</th>\n",
              "      <td>3</td>\n",
              "      <td>Grumpier Old Men (1995)</td>\n",
              "      <td>Walter Matthau|Jack Lemmon|Sophia Loren|Ann-Ma...</td>\n",
              "      <td>Mark Steven Johnson</td>\n",
              "      <td>101.0</td>\n",
              "      <td>$25,000,000</td>\n",
              "      <td>boat|lake|neighbor|rivalry</td>\n",
              "    </tr>\n",
              "    <tr>\n",
              "      <th>3</th>\n",
              "      <td>4</td>\n",
              "      <td>Waiting to Exhale (1995)</td>\n",
              "      <td>Whitney Houston|Angela Bassett|Loretta Devine|...</td>\n",
              "      <td>Terry McMillan</td>\n",
              "      <td>124.0</td>\n",
              "      <td>$16,000,000</td>\n",
              "      <td>black american|husband wife relationship|betra...</td>\n",
              "    </tr>\n",
              "    <tr>\n",
              "      <th>4</th>\n",
              "      <td>5</td>\n",
              "      <td>Father of the Bride Part II (1995)</td>\n",
              "      <td>Steve Martin|Diane Keaton|Martin Short|Kimberl...</td>\n",
              "      <td>Albert Hackett</td>\n",
              "      <td>106.0</td>\n",
              "      <td>$30,000,000</td>\n",
              "      <td>fatherhood|doberman|dog|mansion</td>\n",
              "    </tr>\n",
              "  </tbody>\n",
              "</table>\n",
              "</div>"
            ]
          },
          "metadata": {
            "tags": []
          },
          "execution_count": 38
        }
      ]
    },
    {
      "cell_type": "code",
      "metadata": {
        "id": "2QmkQpqbnVtr",
        "trusted": true,
        "colab_type": "code",
        "colab": {}
      },
      "source": [
        "# Splitting title cast and create a new entry for each of the genre a movie falls into\n",
        "z = imd_movies['title_cast'].str.split('|').apply(Series, 1).stack()\n",
        "z.index = z.index.droplevel(-1)\n",
        "z.name = 'title_cast'\n",
        "del imd_movies['title_cast']\n",
        "imd_movies_split_title_cast = imd_movies.join(z)"
      ],
      "execution_count": null,
      "outputs": []
    },
    {
      "cell_type": "markdown",
      "metadata": {
        "id": "XyOXGopfnVts",
        "colab_type": "text"
      },
      "source": [
        "Here we can see which actors have starred in the most movies."
      ]
    },
    {
      "cell_type": "code",
      "metadata": {
        "id": "68WdC_JHnVtt",
        "trusted": true,
        "colab_type": "code",
        "colab": {},
        "outputId": "b6ac4524-e58b-4742-8265-461dd03ff502"
      },
      "source": [
        "imd_movies_split_title_cast['title_cast'].value_counts().head(15)"
      ],
      "execution_count": null,
      "outputs": [
        {
          "output_type": "execute_result",
          "data": {
            "text/plain": [
              "Samuel L. Jackson     79\n",
              "Steve Buscemi         65\n",
              "Robert De Niro        57\n",
              "Willem Dafoe          55\n",
              "Nicolas Cage          55\n",
              "Gérard Depardieu      55\n",
              "Christopher Walken    54\n",
              "Keith David           54\n",
              "Bruce Willis          54\n",
              "Brian Cox             54\n",
              "Richard Jenkins       53\n",
              "Morgan Freeman        53\n",
              "Danny Glover          53\n",
              "Tom Wilkinson         53\n",
              "Stanley Tucci         53\n",
              "Name: title_cast, dtype: int64"
            ]
          },
          "metadata": {
            "tags": []
          },
          "execution_count": 40
        }
      ]
    },
    {
      "cell_type": "markdown",
      "metadata": {
        "id": "98-ie4URnVtv",
        "colab_type": "text"
      },
      "source": [
        "As to be expected: Samuel L. Jackson, Steve Buscemi and Robert De Niro have appeared in most movies."
      ]
    },
    {
      "cell_type": "markdown",
      "metadata": {
        "id": "5ruU692XnVtw",
        "colab_type": "text"
      },
      "source": [
        "Here we can see which director has directed the most movies."
      ]
    },
    {
      "cell_type": "code",
      "metadata": {
        "id": "WT6mUqAGnVtw",
        "trusted": true,
        "colab_type": "code",
        "colab": {},
        "outputId": "7b1ad50d-a68d-444e-a709-ec1fa314a7af"
      },
      "source": [
        "imd_movies['director'].value_counts().head(15)"
      ],
      "execution_count": null,
      "outputs": [
        {
          "output_type": "execute_result",
          "data": {
            "text/plain": [
              "Woody Allen            26\n",
              "Luc Besson             26\n",
              "See full summary       25\n",
              "Stephen King           23\n",
              "William Shakespeare    18\n",
              "Lars von Trier         15\n",
              "Tyler Perry            15\n",
              "Ki-duk Kim             15\n",
              "Robert Rodriguez       14\n",
              "David Mamet            13\n",
              "Peter Farrelly         13\n",
              "Alex Gibney            13\n",
              "Sang-soo Hong          12\n",
              "Olivier Assayas        12\n",
              "Takeshi Kitano         12\n",
              "Name: director, dtype: int64"
            ]
          },
          "metadata": {
            "tags": []
          },
          "execution_count": 41
        }
      ]
    },
    {
      "cell_type": "markdown",
      "metadata": {
        "id": "R8mwgeNenVty",
        "colab_type": "text"
      },
      "source": [
        "Woody Allen and Luc Besson have directed the most movies.     \n",
        "       "
      ]
    },
    {
      "cell_type": "markdown",
      "metadata": {
        "id": "hg1TtqIhzNXz",
        "colab_type": "text"
      },
      "source": [
        "# Model Building"
      ]
    },
    {
      "cell_type": "markdown",
      "metadata": {
        "id": "aj5fQcy41oJn",
        "colab_type": "text"
      },
      "source": [
        "We will use a technique called ***collaborative filtering*** to make recommendations to movie watchers. Collaborative filtering is the most common technique used when it comes to building intelligent recommender systems that can learn to give better recommendations as more information about users is collected.Collaborative filtering provides many advantages over content-based filtering. A few of them are as follows: Not required to understand item content: The content of the items does not necessarily tell the whole story, such as movie type/genre, and so on.\n",
        "\n",
        "We will not be implementing collaborative filtering from scratch. Instead, we will use the Surprise library that used extremely powerful algorithms like Singular Value Decomposition (SVD) to minimise RMSE (Root Mean Square Error) and give great recommendations.\n",
        "\n",
        "Most websites like Amazon, YouTube, and Netflix use collaborative filtering as a part of their sophisticated recommendation systems. We can use this technique to build recommenders that give suggestions to a user on the basis of the likes and dislikes of similar users."
      ]
    },
    {
      "cell_type": "markdown",
      "metadata": {
        "id": "2LKYX9vVzNX0",
        "colab_type": "text"
      },
      "source": [
        "Our collaborative filtering model uses a **Single Value Decomposition (SVD)** algorithm:\n",
        "\n",
        "One way to handle the scalability and sparsity issue created by colaborative filtering is to leverage a latent factor model to capture the similarity between users and items. Essentially, we want to turn the recommendation problem into an optimization problem. We can view it as how good we are in predicting the rating for items given a user. One common metric is Root Mean Square Error (RMSE). The lower the RMSE, the better the performance.\n",
        "\n",
        "The latent factor you might be wondering is a broad idea which describes a property or concept that a user or an item has. SVD decreases the dimension of the utility matrix by extracting its latent factors. Essentially, we map each user and each item into a latent space with dimension r. Therefore, it helps us better understand the relationship between users and items as they become directly comparable. "
      ]
    },
    {
      "cell_type": "code",
      "metadata": {
        "id": "3XWQ3T_W2K6G",
        "trusted": true,
        "colab_type": "code",
        "colab": {},
        "outputId": "dd7a4dcd-4508-4aad-890b-bd9ac78bc4f2"
      },
      "source": [
        "# Run if running from colab\n",
        "!pip install scikit-surprise"
      ],
      "execution_count": null,
      "outputs": [
        {
          "output_type": "stream",
          "text": [
            "Requirement already satisfied: scikit-surprise in /opt/conda/lib/python3.7/site-packages (1.1.0)\r\n",
            "Requirement already satisfied: joblib>=0.11 in /opt/conda/lib/python3.7/site-packages (from scikit-surprise) (0.14.1)\r\n",
            "Requirement already satisfied: numpy>=1.11.2 in /opt/conda/lib/python3.7/site-packages (from scikit-surprise) (1.18.5)\r\n",
            "Requirement already satisfied: six>=1.10.0 in /opt/conda/lib/python3.7/site-packages (from scikit-surprise) (1.14.0)\r\n",
            "Requirement already satisfied: scipy>=1.0.0 in /opt/conda/lib/python3.7/site-packages (from scikit-surprise) (1.4.1)\r\n"
          ],
          "name": "stdout"
        }
      ]
    },
    {
      "cell_type": "code",
      "metadata": {
        "id": "NSPSbZEE2LAh",
        "trusted": true,
        "colab_type": "code",
        "colab": {}
      },
      "source": [
        "# Importing the surprise packages we need\n",
        "from surprise.model_selection import KFold\n",
        "from surprise import NormalPredictor\n",
        "from surprise import SVD\n",
        "from surprise import Dataset\n",
        "from surprise import accuracy\n",
        "from surprise import Reader\n",
        "from surprise.model_selection import cross_validate\n",
        "reader = Reader(rating_scale=(1, 5))\n"
      ],
      "execution_count": null,
      "outputs": []
    },
    {
      "cell_type": "code",
      "metadata": {
        "id": "XhkbK8XK2LGe",
        "trusted": true,
        "colab_type": "code",
        "colab": {},
        "outputId": "de55fecd-2555-4d8e-b55f-1b94befb5d2b"
      },
      "source": [
        "# Setting up our data variable to use in our surprise pacakage\n",
        "data = Dataset.load_from_df(train[['userId', 'movieId', 'rating']], reader=reader)\n",
        "cross_validate(NormalPredictor(), data, cv=2)\n",
        "# cross_validate(SVD(), data, cv=2)\n"
      ],
      "execution_count": null,
      "outputs": [
        {
          "output_type": "execute_result",
          "data": {
            "text/plain": [
              "{'test_rmse': array([1.44276798, 1.44235619]),\n",
              " 'test_mae': array([1.1504831 , 1.15025897]),\n",
              " 'fit_time': (13.416467905044556, 17.268789529800415),\n",
              " 'test_time': (82.15750980377197, 76.37890529632568)}"
            ]
          },
          "metadata": {
            "tags": []
          },
          "execution_count": 44
        }
      ]
    },
    {
      "cell_type": "code",
      "metadata": {
        "id": "HIv57T-L3H6k",
        "trusted": true,
        "colab_type": "code",
        "colab": {},
        "outputId": "31d37289-74b8-4dca-a543-7c2e8fcdcef0"
      },
      "source": [
        "kf = KFold(n_splits=3)\n",
        "algo = SVD()\n",
        "\n",
        "for trainset, testset in kf.split(data):\n",
        "\n",
        "    # train and test algorithm.\n",
        "    algo.fit(trainset)\n",
        "    predictions = algo.test(testset)\n",
        "\n",
        "    # Compute and print Root Mean Squared Error\n",
        "    accuracy.rmse(predictions, verbose=True)\n",
        "    "
      ],
      "execution_count": null,
      "outputs": [
        {
          "output_type": "stream",
          "text": [
            "RMSE: 0.8458\n",
            "RMSE: 0.8452\n",
            "RMSE: 0.8463\n"
          ],
          "name": "stdout"
        }
      ]
    },
    {
      "cell_type": "markdown",
      "metadata": {
        "id": "fIjlPixjzNX7",
        "colab_type": "text"
      },
      "source": [
        "Fitting our algorithm on the whole dataset."
      ]
    },
    {
      "cell_type": "code",
      "metadata": {
        "id": "_7wStM2vA1L6",
        "trusted": true,
        "colab_type": "code",
        "colab": {},
        "outputId": "85a5bab2-e3c0-4b5a-97bf-bd1f662de947"
      },
      "source": [
        "# After gridsearch. Best parameters : n_epochs=10, lr_all=0.005, reg_all=0.4\n",
        "algo.fit(data.build_full_trainset())\n"
      ],
      "execution_count": null,
      "outputs": [
        {
          "output_type": "execute_result",
          "data": {
            "text/plain": [
              "<surprise.prediction_algorithms.matrix_factorization.SVD at 0x7f922b78e710>"
            ]
          },
          "metadata": {
            "tags": []
          },
          "execution_count": 46
        }
      ]
    },
    {
      "cell_type": "code",
      "metadata": {
        "id": "0aTEtfQzOeei",
        "trusted": true,
        "colab_type": "code",
        "colab": {}
      },
      "source": [
        "# run to create a pickle file\n",
        "import pickle\n",
        "# Pickle the model\n",
        "model_save_path = \"SVD_full_dataset.pkl\"\n",
        "with open(model_save_path, 'wb') as file:\n",
        "  pickle.dump(algo, file)\n",
        "  "
      ],
      "execution_count": null,
      "outputs": []
    },
    {
      "cell_type": "code",
      "metadata": {
        "id": "D7bI9U5YA9-K",
        "trusted": true,
        "colab_type": "code",
        "colab": {},
        "outputId": "4fb4744f-38eb-496d-d637-7a990059ae9f"
      },
      "source": [
        "# This for loop generates a list containing all our predictions.\n",
        "ratings = []\n",
        "for _, row in test.iterrows():\n",
        "    ratings.append(algo.predict(row.userId, row.movieId).est)\n",
        "\n",
        "ratings[0:10]\n"
      ],
      "execution_count": null,
      "outputs": [
        {
          "output_type": "execute_result",
          "data": {
            "text/plain": [
              "[3.240743247651703,\n",
              " 4.206082602730029,\n",
              " 3.736132419505399,\n",
              " 4.025949364732936,\n",
              " 2.911411376491275,\n",
              " 4.2185993309680105,\n",
              " 4.223940343372361,\n",
              " 3.5373301494425995,\n",
              " 3.6273080815728687,\n",
              " 3.849750964205453]"
            ]
          },
          "metadata": {
            "tags": []
          },
          "execution_count": 48
        }
      ]
    },
    {
      "cell_type": "code",
      "metadata": {
        "id": "IFLrgi7pzNYN",
        "trusted": true,
        "colab_type": "code",
        "colab": {},
        "outputId": "5a65b83d-c43f-4d90-87a1-bfc6c09ebb95"
      },
      "source": [
        "# setting up our test dataframe for submission.\n",
        "test['rating'] = ratings\n",
        "test['Id'] = test[['userId', 'movieId']].astype(str).agg('_'.join, axis=1)\n",
        "test.head()\n"
      ],
      "execution_count": null,
      "outputs": [
        {
          "output_type": "execute_result",
          "data": {
            "text/plain": [
              "   userId  movieId    rating      Id\n",
              "0       1     2011  3.240743  1_2011\n",
              "1       1     4144  4.206083  1_4144\n",
              "2       1     5767  3.736132  1_5767\n",
              "3       1     6711  4.025949  1_6711\n",
              "4       1     7318  2.911411  1_7318"
            ],
            "text/html": [
              "<div>\n",
              "<style scoped>\n",
              "    .dataframe tbody tr th:only-of-type {\n",
              "        vertical-align: middle;\n",
              "    }\n",
              "\n",
              "    .dataframe tbody tr th {\n",
              "        vertical-align: top;\n",
              "    }\n",
              "\n",
              "    .dataframe thead th {\n",
              "        text-align: right;\n",
              "    }\n",
              "</style>\n",
              "<table border=\"1\" class=\"dataframe\">\n",
              "  <thead>\n",
              "    <tr style=\"text-align: right;\">\n",
              "      <th></th>\n",
              "      <th>userId</th>\n",
              "      <th>movieId</th>\n",
              "      <th>rating</th>\n",
              "      <th>Id</th>\n",
              "    </tr>\n",
              "  </thead>\n",
              "  <tbody>\n",
              "    <tr>\n",
              "      <th>0</th>\n",
              "      <td>1</td>\n",
              "      <td>2011</td>\n",
              "      <td>3.240743</td>\n",
              "      <td>1_2011</td>\n",
              "    </tr>\n",
              "    <tr>\n",
              "      <th>1</th>\n",
              "      <td>1</td>\n",
              "      <td>4144</td>\n",
              "      <td>4.206083</td>\n",
              "      <td>1_4144</td>\n",
              "    </tr>\n",
              "    <tr>\n",
              "      <th>2</th>\n",
              "      <td>1</td>\n",
              "      <td>5767</td>\n",
              "      <td>3.736132</td>\n",
              "      <td>1_5767</td>\n",
              "    </tr>\n",
              "    <tr>\n",
              "      <th>3</th>\n",
              "      <td>1</td>\n",
              "      <td>6711</td>\n",
              "      <td>4.025949</td>\n",
              "      <td>1_6711</td>\n",
              "    </tr>\n",
              "    <tr>\n",
              "      <th>4</th>\n",
              "      <td>1</td>\n",
              "      <td>7318</td>\n",
              "      <td>2.911411</td>\n",
              "      <td>1_7318</td>\n",
              "    </tr>\n",
              "  </tbody>\n",
              "</table>\n",
              "</div>"
            ]
          },
          "metadata": {
            "tags": []
          },
          "execution_count": 49
        }
      ]
    },
    {
      "cell_type": "code",
      "metadata": {
        "id": "Uo-HSd5fzNYX",
        "trusted": true,
        "colab_type": "code",
        "colab": {},
        "outputId": "45162000-291d-4bc2-93e3-43b06b978779"
      },
      "source": [
        "# Creating our submission csv file. Score of 0.81885.\n",
        "test_df = test.copy()\n",
        "test_df.drop(columns=['movieId', 'userId'], inplace=True)\n",
        "test_df.to_csv('Submission_5.csv', index=False)\n",
        "test_df\n"
      ],
      "execution_count": null,
      "outputs": [
        {
          "output_type": "execute_result",
          "data": {
            "text/plain": [
              "           rating           Id\n",
              "0        3.240743       1_2011\n",
              "1        4.206083       1_4144\n",
              "2        3.736132       1_5767\n",
              "3        4.025949       1_6711\n",
              "4        2.911411       1_7318\n",
              "...           ...          ...\n",
              "5000014  2.916967  162541_4079\n",
              "5000015  3.753563  162541_4467\n",
              "5000016  2.868134  162541_4980\n",
              "5000017  3.063127  162541_5689\n",
              "5000018  4.340589  162541_7153\n",
              "\n",
              "[5000019 rows x 2 columns]"
            ],
            "text/html": [
              "<div>\n",
              "<style scoped>\n",
              "    .dataframe tbody tr th:only-of-type {\n",
              "        vertical-align: middle;\n",
              "    }\n",
              "\n",
              "    .dataframe tbody tr th {\n",
              "        vertical-align: top;\n",
              "    }\n",
              "\n",
              "    .dataframe thead th {\n",
              "        text-align: right;\n",
              "    }\n",
              "</style>\n",
              "<table border=\"1\" class=\"dataframe\">\n",
              "  <thead>\n",
              "    <tr style=\"text-align: right;\">\n",
              "      <th></th>\n",
              "      <th>rating</th>\n",
              "      <th>Id</th>\n",
              "    </tr>\n",
              "  </thead>\n",
              "  <tbody>\n",
              "    <tr>\n",
              "      <th>0</th>\n",
              "      <td>3.240743</td>\n",
              "      <td>1_2011</td>\n",
              "    </tr>\n",
              "    <tr>\n",
              "      <th>1</th>\n",
              "      <td>4.206083</td>\n",
              "      <td>1_4144</td>\n",
              "    </tr>\n",
              "    <tr>\n",
              "      <th>2</th>\n",
              "      <td>3.736132</td>\n",
              "      <td>1_5767</td>\n",
              "    </tr>\n",
              "    <tr>\n",
              "      <th>3</th>\n",
              "      <td>4.025949</td>\n",
              "      <td>1_6711</td>\n",
              "    </tr>\n",
              "    <tr>\n",
              "      <th>4</th>\n",
              "      <td>2.911411</td>\n",
              "      <td>1_7318</td>\n",
              "    </tr>\n",
              "    <tr>\n",
              "      <th>...</th>\n",
              "      <td>...</td>\n",
              "      <td>...</td>\n",
              "    </tr>\n",
              "    <tr>\n",
              "      <th>5000014</th>\n",
              "      <td>2.916967</td>\n",
              "      <td>162541_4079</td>\n",
              "    </tr>\n",
              "    <tr>\n",
              "      <th>5000015</th>\n",
              "      <td>3.753563</td>\n",
              "      <td>162541_4467</td>\n",
              "    </tr>\n",
              "    <tr>\n",
              "      <th>5000016</th>\n",
              "      <td>2.868134</td>\n",
              "      <td>162541_4980</td>\n",
              "    </tr>\n",
              "    <tr>\n",
              "      <th>5000017</th>\n",
              "      <td>3.063127</td>\n",
              "      <td>162541_5689</td>\n",
              "    </tr>\n",
              "    <tr>\n",
              "      <th>5000018</th>\n",
              "      <td>4.340589</td>\n",
              "      <td>162541_7153</td>\n",
              "    </tr>\n",
              "  </tbody>\n",
              "</table>\n",
              "<p>5000019 rows × 2 columns</p>\n",
              "</div>"
            ]
          },
          "metadata": {
            "tags": []
          },
          "execution_count": 50
        }
      ]
    },
    {
      "cell_type": "code",
      "metadata": {
        "id": "Kp6zq8kDzNYe",
        "trusted": true,
        "colab_type": "code",
        "colab": {},
        "outputId": "0f762b9f-1f49-4608-b20b-cadd48cc3565"
      },
      "source": [
        "ratings_dict = {'itemId': list(train.movieId),\n",
        "                'userId': list(train.userId),\n",
        "                'rating': list(train.rating)}\n",
        "\n",
        "df = pd.DataFrame(ratings_dict)\n",
        "df.head()\n"
      ],
      "execution_count": null,
      "outputs": [
        {
          "output_type": "execute_result",
          "data": {
            "text/plain": [
              "   itemId  userId  rating\n",
              "0   57669    5163     4.0\n",
              "1       5  106343     4.5\n",
              "2    5459  146790     5.0\n",
              "3   32296  106362     2.0\n",
              "4     366    9041     3.0"
            ],
            "text/html": [
              "<div>\n",
              "<style scoped>\n",
              "    .dataframe tbody tr th:only-of-type {\n",
              "        vertical-align: middle;\n",
              "    }\n",
              "\n",
              "    .dataframe tbody tr th {\n",
              "        vertical-align: top;\n",
              "    }\n",
              "\n",
              "    .dataframe thead th {\n",
              "        text-align: right;\n",
              "    }\n",
              "</style>\n",
              "<table border=\"1\" class=\"dataframe\">\n",
              "  <thead>\n",
              "    <tr style=\"text-align: right;\">\n",
              "      <th></th>\n",
              "      <th>itemId</th>\n",
              "      <th>userId</th>\n",
              "      <th>rating</th>\n",
              "    </tr>\n",
              "  </thead>\n",
              "  <tbody>\n",
              "    <tr>\n",
              "      <th>0</th>\n",
              "      <td>57669</td>\n",
              "      <td>5163</td>\n",
              "      <td>4.0</td>\n",
              "    </tr>\n",
              "    <tr>\n",
              "      <th>1</th>\n",
              "      <td>5</td>\n",
              "      <td>106343</td>\n",
              "      <td>4.5</td>\n",
              "    </tr>\n",
              "    <tr>\n",
              "      <th>2</th>\n",
              "      <td>5459</td>\n",
              "      <td>146790</td>\n",
              "      <td>5.0</td>\n",
              "    </tr>\n",
              "    <tr>\n",
              "      <th>3</th>\n",
              "      <td>32296</td>\n",
              "      <td>106362</td>\n",
              "      <td>2.0</td>\n",
              "    </tr>\n",
              "    <tr>\n",
              "      <th>4</th>\n",
              "      <td>366</td>\n",
              "      <td>9041</td>\n",
              "      <td>3.0</td>\n",
              "    </tr>\n",
              "  </tbody>\n",
              "</table>\n",
              "</div>"
            ]
          },
          "metadata": {
            "tags": []
          },
          "execution_count": 51
        }
      ]
    },
    {
      "cell_type": "markdown",
      "metadata": {
        "id": "ckzI44HszNYj",
        "colab_type": "text"
      },
      "source": [
        "\n",
        "The following function will create a pandas data frame which will consist of these columns:\n",
        "\n",
        "UID: user-id\n",
        "\n",
        "iid: item id\n",
        "\n",
        "Rui: the rating given by the user\n",
        "\n",
        "est: rating estimated by the model\n",
        "\n",
        "Iu: No of items rated by the user\n",
        "\n",
        "UI: number of users that have rated this item\n",
        "\n",
        "err: abs difference between predicted rating and the actual rating."
      ]
    },
    {
      "cell_type": "code",
      "metadata": {
        "id": "GfxM9n_wzNYk",
        "trusted": true,
        "colab_type": "code",
        "colab": {}
      },
      "source": [
        "def get_Iu(uid):\n",
        "    \"\"\" \n",
        "    args: \n",
        "      uid: the id of the user\n",
        "    returns: \n",
        "      the number of items rated by the user\n",
        "    \"\"\"\n",
        "    try:\n",
        "        return len(trainset.ur[trainset.to_inner_uid(uid)])\n",
        "    except ValueError:  # user was not part of the trainset\n",
        "        return 0\n",
        "    \n",
        "def get_Ui(iid):\n",
        "    \"\"\" \n",
        "    args:\n",
        "      iid: the raw id of the item\n",
        "    returns:\n",
        "      the number of users that have rated the item.\n",
        "    \"\"\"\n",
        "    try: \n",
        "        return len(trainset.ir[trainset.to_inner_iid(iid)])\n",
        "    except ValueError:\n",
        "        return 0\n",
        "\n",
        "    \n",
        "df_predictions = pd.DataFrame(predictions, columns=['uid', 'iid', 'rui', 'est', 'details'])\n",
        "df_predictions['Iu'] = df_predictions.uid.apply(get_Iu)\n",
        "df_predictions['Ui'] = df_predictions.iid.apply(get_Ui)\n",
        "df_predictions['err'] = abs(df_predictions.est - df_predictions.rui)\n"
      ],
      "execution_count": null,
      "outputs": []
    },
    {
      "cell_type": "code",
      "metadata": {
        "id": "EPilhVFCzNYr",
        "trusted": true,
        "colab_type": "code",
        "colab": {},
        "outputId": "b59c2406-cf04-4137-ef30-d0a47fba58fe"
      },
      "source": [
        "df_predictions.head()\n"
      ],
      "execution_count": null,
      "outputs": [
        {
          "output_type": "execute_result",
          "data": {
            "text/plain": [
              "      uid     iid  rui       est                    details   Iu     Ui  \\\n",
              "0  120831    3067  4.0  3.950800  {'was_impossible': False}   38    746   \n",
              "1    3794  104913  3.5  3.565788  {'was_impossible': False}   99    916   \n",
              "2  115056   96606  5.0  4.198245  {'was_impossible': False}   82    264   \n",
              "3   13411     377  3.0  3.620700  {'was_impossible': False}  266  10967   \n",
              "4  133629    1073  3.0  4.203781  {'was_impossible': False}  120   7398   \n",
              "\n",
              "        err  \n",
              "0  0.049200  \n",
              "1  0.065788  \n",
              "2  0.801755  \n",
              "3  0.620700  \n",
              "4  1.203781  "
            ],
            "text/html": [
              "<div>\n",
              "<style scoped>\n",
              "    .dataframe tbody tr th:only-of-type {\n",
              "        vertical-align: middle;\n",
              "    }\n",
              "\n",
              "    .dataframe tbody tr th {\n",
              "        vertical-align: top;\n",
              "    }\n",
              "\n",
              "    .dataframe thead th {\n",
              "        text-align: right;\n",
              "    }\n",
              "</style>\n",
              "<table border=\"1\" class=\"dataframe\">\n",
              "  <thead>\n",
              "    <tr style=\"text-align: right;\">\n",
              "      <th></th>\n",
              "      <th>uid</th>\n",
              "      <th>iid</th>\n",
              "      <th>rui</th>\n",
              "      <th>est</th>\n",
              "      <th>details</th>\n",
              "      <th>Iu</th>\n",
              "      <th>Ui</th>\n",
              "      <th>err</th>\n",
              "    </tr>\n",
              "  </thead>\n",
              "  <tbody>\n",
              "    <tr>\n",
              "      <th>0</th>\n",
              "      <td>120831</td>\n",
              "      <td>3067</td>\n",
              "      <td>4.0</td>\n",
              "      <td>3.950800</td>\n",
              "      <td>{'was_impossible': False}</td>\n",
              "      <td>38</td>\n",
              "      <td>746</td>\n",
              "      <td>0.049200</td>\n",
              "    </tr>\n",
              "    <tr>\n",
              "      <th>1</th>\n",
              "      <td>3794</td>\n",
              "      <td>104913</td>\n",
              "      <td>3.5</td>\n",
              "      <td>3.565788</td>\n",
              "      <td>{'was_impossible': False}</td>\n",
              "      <td>99</td>\n",
              "      <td>916</td>\n",
              "      <td>0.065788</td>\n",
              "    </tr>\n",
              "    <tr>\n",
              "      <th>2</th>\n",
              "      <td>115056</td>\n",
              "      <td>96606</td>\n",
              "      <td>5.0</td>\n",
              "      <td>4.198245</td>\n",
              "      <td>{'was_impossible': False}</td>\n",
              "      <td>82</td>\n",
              "      <td>264</td>\n",
              "      <td>0.801755</td>\n",
              "    </tr>\n",
              "    <tr>\n",
              "      <th>3</th>\n",
              "      <td>13411</td>\n",
              "      <td>377</td>\n",
              "      <td>3.0</td>\n",
              "      <td>3.620700</td>\n",
              "      <td>{'was_impossible': False}</td>\n",
              "      <td>266</td>\n",
              "      <td>10967</td>\n",
              "      <td>0.620700</td>\n",
              "    </tr>\n",
              "    <tr>\n",
              "      <th>4</th>\n",
              "      <td>133629</td>\n",
              "      <td>1073</td>\n",
              "      <td>3.0</td>\n",
              "      <td>4.203781</td>\n",
              "      <td>{'was_impossible': False}</td>\n",
              "      <td>120</td>\n",
              "      <td>7398</td>\n",
              "      <td>1.203781</td>\n",
              "    </tr>\n",
              "  </tbody>\n",
              "</table>\n",
              "</div>"
            ]
          },
          "metadata": {
            "tags": []
          },
          "execution_count": 53
        }
      ]
    },
    {
      "cell_type": "markdown",
      "metadata": {
        "id": "hg1A7-ZAqVSg",
        "colab_type": "text"
      },
      "source": [
        "# Evaluating our Model's predictive ability and accuracy:\n",
        "\n",
        "By doing analysis on our Model's findings we can extract some important findings."
      ]
    },
    {
      "cell_type": "markdown",
      "metadata": {
        "id": "40mSEIqJzNYy",
        "colab_type": "text"
      },
      "source": [
        " # Top 10 best and worst predictions by model\n",
        "\n",
        " Here we can see our model's 10 best and worst predictions. This shows us where we have room for improvement."
      ]
    },
    {
      "cell_type": "code",
      "metadata": {
        "id": "NXwZmRQdzNYz",
        "trusted": true,
        "colab_type": "code",
        "colab": {}
      },
      "source": [
        "# Best and Worst predictions\n",
        "best_predictions = df_predictions.sort_values(by='err')[:10]\n",
        "worst_predictions = df_predictions.sort_values(by='err')[-10:]\n"
      ],
      "execution_count": null,
      "outputs": []
    },
    {
      "cell_type": "code",
      "metadata": {
        "id": "iU8Bn8ZnzNY6",
        "trusted": true,
        "colab_type": "code",
        "colab": {},
        "outputId": "630359e0-ee7b-4288-844c-63656893e122"
      },
      "source": [
        "# Viewing 10 best predictions\n",
        "best_predictions\n"
      ],
      "execution_count": null,
      "outputs": [
        {
          "output_type": "execute_result",
          "data": {
            "text/plain": [
              "            uid    iid  rui  est                    details   Iu    Ui  err\n",
              "722659     2766   3435  5.0  5.0  {'was_impossible': False}  168  1437  0.0\n",
              "861705   134814   1732  5.0  5.0  {'was_impossible': False}  350  7414  0.0\n",
              "861628   128577   3593  1.0  1.0  {'was_impossible': False}  370  1155  0.0\n",
              "384533    46893   2868  1.0  1.0  {'was_impossible': False}  100   105  0.0\n",
              "2743543   81295  88125  5.0  5.0  {'was_impossible': False}    9  3568  0.0\n",
              "1482634   79095   1923  5.0  5.0  {'was_impossible': False}  139  6559  0.0\n",
              "2500731  162259  60069  5.0  5.0  {'was_impossible': False}   38  7368  0.0\n",
              "270825   137690  55232  5.0  5.0  {'was_impossible': False}  101   756  0.0\n",
              "1376030  141830  84152  5.0  5.0  {'was_impossible': False}  276  2696  0.0\n",
              "576752   147434   7013  5.0  5.0  {'was_impossible': False}  130   485  0.0"
            ],
            "text/html": [
              "<div>\n",
              "<style scoped>\n",
              "    .dataframe tbody tr th:only-of-type {\n",
              "        vertical-align: middle;\n",
              "    }\n",
              "\n",
              "    .dataframe tbody tr th {\n",
              "        vertical-align: top;\n",
              "    }\n",
              "\n",
              "    .dataframe thead th {\n",
              "        text-align: right;\n",
              "    }\n",
              "</style>\n",
              "<table border=\"1\" class=\"dataframe\">\n",
              "  <thead>\n",
              "    <tr style=\"text-align: right;\">\n",
              "      <th></th>\n",
              "      <th>uid</th>\n",
              "      <th>iid</th>\n",
              "      <th>rui</th>\n",
              "      <th>est</th>\n",
              "      <th>details</th>\n",
              "      <th>Iu</th>\n",
              "      <th>Ui</th>\n",
              "      <th>err</th>\n",
              "    </tr>\n",
              "  </thead>\n",
              "  <tbody>\n",
              "    <tr>\n",
              "      <th>722659</th>\n",
              "      <td>2766</td>\n",
              "      <td>3435</td>\n",
              "      <td>5.0</td>\n",
              "      <td>5.0</td>\n",
              "      <td>{'was_impossible': False}</td>\n",
              "      <td>168</td>\n",
              "      <td>1437</td>\n",
              "      <td>0.0</td>\n",
              "    </tr>\n",
              "    <tr>\n",
              "      <th>861705</th>\n",
              "      <td>134814</td>\n",
              "      <td>1732</td>\n",
              "      <td>5.0</td>\n",
              "      <td>5.0</td>\n",
              "      <td>{'was_impossible': False}</td>\n",
              "      <td>350</td>\n",
              "      <td>7414</td>\n",
              "      <td>0.0</td>\n",
              "    </tr>\n",
              "    <tr>\n",
              "      <th>861628</th>\n",
              "      <td>128577</td>\n",
              "      <td>3593</td>\n",
              "      <td>1.0</td>\n",
              "      <td>1.0</td>\n",
              "      <td>{'was_impossible': False}</td>\n",
              "      <td>370</td>\n",
              "      <td>1155</td>\n",
              "      <td>0.0</td>\n",
              "    </tr>\n",
              "    <tr>\n",
              "      <th>384533</th>\n",
              "      <td>46893</td>\n",
              "      <td>2868</td>\n",
              "      <td>1.0</td>\n",
              "      <td>1.0</td>\n",
              "      <td>{'was_impossible': False}</td>\n",
              "      <td>100</td>\n",
              "      <td>105</td>\n",
              "      <td>0.0</td>\n",
              "    </tr>\n",
              "    <tr>\n",
              "      <th>2743543</th>\n",
              "      <td>81295</td>\n",
              "      <td>88125</td>\n",
              "      <td>5.0</td>\n",
              "      <td>5.0</td>\n",
              "      <td>{'was_impossible': False}</td>\n",
              "      <td>9</td>\n",
              "      <td>3568</td>\n",
              "      <td>0.0</td>\n",
              "    </tr>\n",
              "    <tr>\n",
              "      <th>1482634</th>\n",
              "      <td>79095</td>\n",
              "      <td>1923</td>\n",
              "      <td>5.0</td>\n",
              "      <td>5.0</td>\n",
              "      <td>{'was_impossible': False}</td>\n",
              "      <td>139</td>\n",
              "      <td>6559</td>\n",
              "      <td>0.0</td>\n",
              "    </tr>\n",
              "    <tr>\n",
              "      <th>2500731</th>\n",
              "      <td>162259</td>\n",
              "      <td>60069</td>\n",
              "      <td>5.0</td>\n",
              "      <td>5.0</td>\n",
              "      <td>{'was_impossible': False}</td>\n",
              "      <td>38</td>\n",
              "      <td>7368</td>\n",
              "      <td>0.0</td>\n",
              "    </tr>\n",
              "    <tr>\n",
              "      <th>270825</th>\n",
              "      <td>137690</td>\n",
              "      <td>55232</td>\n",
              "      <td>5.0</td>\n",
              "      <td>5.0</td>\n",
              "      <td>{'was_impossible': False}</td>\n",
              "      <td>101</td>\n",
              "      <td>756</td>\n",
              "      <td>0.0</td>\n",
              "    </tr>\n",
              "    <tr>\n",
              "      <th>1376030</th>\n",
              "      <td>141830</td>\n",
              "      <td>84152</td>\n",
              "      <td>5.0</td>\n",
              "      <td>5.0</td>\n",
              "      <td>{'was_impossible': False}</td>\n",
              "      <td>276</td>\n",
              "      <td>2696</td>\n",
              "      <td>0.0</td>\n",
              "    </tr>\n",
              "    <tr>\n",
              "      <th>576752</th>\n",
              "      <td>147434</td>\n",
              "      <td>7013</td>\n",
              "      <td>5.0</td>\n",
              "      <td>5.0</td>\n",
              "      <td>{'was_impossible': False}</td>\n",
              "      <td>130</td>\n",
              "      <td>485</td>\n",
              "      <td>0.0</td>\n",
              "    </tr>\n",
              "  </tbody>\n",
              "</table>\n",
              "</div>"
            ]
          },
          "metadata": {
            "tags": []
          },
          "execution_count": 55
        }
      ]
    },
    {
      "cell_type": "code",
      "metadata": {
        "id": "UAHV51WazNZB",
        "trusted": true,
        "colab_type": "code",
        "colab": {},
        "outputId": "4fcbb6c9-b569-428f-9f48-84c818ddc82d"
      },
      "source": [
        "# Viewing 10 worst predictions\n",
        "worst_predictions\n"
      ],
      "execution_count": null,
      "outputs": [
        {
          "output_type": "execute_result",
          "data": {
            "text/plain": [
              "            uid     iid  rui  est                    details    Iu     Ui  err\n",
              "1887925   24869  114552  0.5  5.0  {'was_impossible': False}  1139    185  4.5\n",
              "2006530   94158     333  0.5  5.0  {'was_impossible': False}   244   2916  4.5\n",
              "2144097  126203     858  0.5  5.0  {'was_impossible': False}    21  13942  4.5\n",
              "205958    38037    2357  0.5  5.0  {'was_impossible': False}    25    594  4.5\n",
              "2614295  101702     318  0.5  5.0  {'was_impossible': False}    52  21891  4.5\n",
              "1863395   86568    1221  0.5  5.0  {'was_impossible': False}    35   8938  4.5\n",
              "211135    77819    8972  0.5  5.0  {'was_impossible': False}    68   2446  4.5\n",
              "2205579   24869    8641  0.5  5.0  {'was_impossible': False}  1139   2497  4.5\n",
              "1008655   92916     296  0.5  5.0  {'was_impossible': False}    46  21240  4.5\n",
              "3263023  138439    2762  0.5  5.0  {'was_impossible': False}    59  12387  4.5"
            ],
            "text/html": [
              "<div>\n",
              "<style scoped>\n",
              "    .dataframe tbody tr th:only-of-type {\n",
              "        vertical-align: middle;\n",
              "    }\n",
              "\n",
              "    .dataframe tbody tr th {\n",
              "        vertical-align: top;\n",
              "    }\n",
              "\n",
              "    .dataframe thead th {\n",
              "        text-align: right;\n",
              "    }\n",
              "</style>\n",
              "<table border=\"1\" class=\"dataframe\">\n",
              "  <thead>\n",
              "    <tr style=\"text-align: right;\">\n",
              "      <th></th>\n",
              "      <th>uid</th>\n",
              "      <th>iid</th>\n",
              "      <th>rui</th>\n",
              "      <th>est</th>\n",
              "      <th>details</th>\n",
              "      <th>Iu</th>\n",
              "      <th>Ui</th>\n",
              "      <th>err</th>\n",
              "    </tr>\n",
              "  </thead>\n",
              "  <tbody>\n",
              "    <tr>\n",
              "      <th>1887925</th>\n",
              "      <td>24869</td>\n",
              "      <td>114552</td>\n",
              "      <td>0.5</td>\n",
              "      <td>5.0</td>\n",
              "      <td>{'was_impossible': False}</td>\n",
              "      <td>1139</td>\n",
              "      <td>185</td>\n",
              "      <td>4.5</td>\n",
              "    </tr>\n",
              "    <tr>\n",
              "      <th>2006530</th>\n",
              "      <td>94158</td>\n",
              "      <td>333</td>\n",
              "      <td>0.5</td>\n",
              "      <td>5.0</td>\n",
              "      <td>{'was_impossible': False}</td>\n",
              "      <td>244</td>\n",
              "      <td>2916</td>\n",
              "      <td>4.5</td>\n",
              "    </tr>\n",
              "    <tr>\n",
              "      <th>2144097</th>\n",
              "      <td>126203</td>\n",
              "      <td>858</td>\n",
              "      <td>0.5</td>\n",
              "      <td>5.0</td>\n",
              "      <td>{'was_impossible': False}</td>\n",
              "      <td>21</td>\n",
              "      <td>13942</td>\n",
              "      <td>4.5</td>\n",
              "    </tr>\n",
              "    <tr>\n",
              "      <th>205958</th>\n",
              "      <td>38037</td>\n",
              "      <td>2357</td>\n",
              "      <td>0.5</td>\n",
              "      <td>5.0</td>\n",
              "      <td>{'was_impossible': False}</td>\n",
              "      <td>25</td>\n",
              "      <td>594</td>\n",
              "      <td>4.5</td>\n",
              "    </tr>\n",
              "    <tr>\n",
              "      <th>2614295</th>\n",
              "      <td>101702</td>\n",
              "      <td>318</td>\n",
              "      <td>0.5</td>\n",
              "      <td>5.0</td>\n",
              "      <td>{'was_impossible': False}</td>\n",
              "      <td>52</td>\n",
              "      <td>21891</td>\n",
              "      <td>4.5</td>\n",
              "    </tr>\n",
              "    <tr>\n",
              "      <th>1863395</th>\n",
              "      <td>86568</td>\n",
              "      <td>1221</td>\n",
              "      <td>0.5</td>\n",
              "      <td>5.0</td>\n",
              "      <td>{'was_impossible': False}</td>\n",
              "      <td>35</td>\n",
              "      <td>8938</td>\n",
              "      <td>4.5</td>\n",
              "    </tr>\n",
              "    <tr>\n",
              "      <th>211135</th>\n",
              "      <td>77819</td>\n",
              "      <td>8972</td>\n",
              "      <td>0.5</td>\n",
              "      <td>5.0</td>\n",
              "      <td>{'was_impossible': False}</td>\n",
              "      <td>68</td>\n",
              "      <td>2446</td>\n",
              "      <td>4.5</td>\n",
              "    </tr>\n",
              "    <tr>\n",
              "      <th>2205579</th>\n",
              "      <td>24869</td>\n",
              "      <td>8641</td>\n",
              "      <td>0.5</td>\n",
              "      <td>5.0</td>\n",
              "      <td>{'was_impossible': False}</td>\n",
              "      <td>1139</td>\n",
              "      <td>2497</td>\n",
              "      <td>4.5</td>\n",
              "    </tr>\n",
              "    <tr>\n",
              "      <th>1008655</th>\n",
              "      <td>92916</td>\n",
              "      <td>296</td>\n",
              "      <td>0.5</td>\n",
              "      <td>5.0</td>\n",
              "      <td>{'was_impossible': False}</td>\n",
              "      <td>46</td>\n",
              "      <td>21240</td>\n",
              "      <td>4.5</td>\n",
              "    </tr>\n",
              "    <tr>\n",
              "      <th>3263023</th>\n",
              "      <td>138439</td>\n",
              "      <td>2762</td>\n",
              "      <td>0.5</td>\n",
              "      <td>5.0</td>\n",
              "      <td>{'was_impossible': False}</td>\n",
              "      <td>59</td>\n",
              "      <td>12387</td>\n",
              "      <td>4.5</td>\n",
              "    </tr>\n",
              "  </tbody>\n",
              "</table>\n",
              "</div>"
            ]
          },
          "metadata": {
            "tags": []
          },
          "execution_count": 56
        }
      ]
    },
    {
      "cell_type": "markdown",
      "metadata": {
        "id": "CutMg5P1zNZb",
        "colab_type": "text"
      },
      "source": [
        "# K Recommendations"
      ]
    },
    {
      "cell_type": "markdown",
      "metadata": {
        "id": "AsGk_hF5zNZc",
        "colab_type": "text"
      },
      "source": [
        "Recall and precision at K Recall and precision are the classical evaluation metric and are used to evaluate the binary metric and so we have to convert our rating which is scaled from (1-5) into a binary problem relevant and not relevant items."
      ]
    },
    {
      "cell_type": "markdown",
      "metadata": {
        "id": "E2rd4yBRzNZe",
        "colab_type": "text"
      },
      "source": [
        "#Conversion to binary\n",
        "\n",
        "To do the translation we have to select an arbitrary value on which we can say any rating above that will be considered relevant. There are many methods on selecting that value but for now, we will select 3.5 as the threshold, which means any true rating above 3.5 will be considered relevant and below will be not relevant."
      ]
    },
    {
      "cell_type": "markdown",
      "metadata": {
        "id": "8jr_p608zNZf",
        "colab_type": "text"
      },
      "source": [
        "Deciding 'k'\n",
        "\n",
        "In recommendation systems, we are interested in showing the top N items to users and so the best way is to compute precision and recall on top N values instead of calculating on all the items."
      ]
    },
    {
      "cell_type": "markdown",
      "metadata": {
        "id": "E7ERZCx6zNZh",
        "colab_type": "text"
      },
      "source": [
        "Definition of Relevant and Recommended\n",
        "Relevant: True Rating > = 3.5\n",
        "\n",
        "Irrelevant: True Rating < 3.5\n",
        "\n",
        "Recommended item: Predicted Rating > = 3.5\n",
        "\n",
        "Not Recommended item: Predicted Rating > = 3.5"
      ]
    },
    {
      "cell_type": "markdown",
      "metadata": {
        "id": "YvXjroJqzNZi",
        "colab_type": "text"
      },
      "source": [
        "Definition of Precision and Recall\n",
        "Precision: It tries to answer \"What proportion of positive identifications was actually correct?\" i.e True positive / (True positive+False Positive) in RecSys we can say (number of recommended items at k that are relevant) / (number of recommended items at k)\n",
        "\n",
        "Recall: It tries to answer \"What proportion of actual positives were identified correctly?\" i.e True positive / (True Positive+False Negative) in RecSys we can say (# of recommended items @k that are relevant) / (# of relevant items @k)"
      ]
    },
    {
      "cell_type": "markdown",
      "metadata": {
        "id": "XLQLD9u4zNZk",
        "colab_type": "text"
      },
      "source": [
        "While recall expresses the ability to find all relevant instances in a dataset, precision expresses the proportion of the data points our model says was relevant actually were relevant."
      ]
    },
    {
      "cell_type": "markdown",
      "metadata": {
        "id": "zD_RSX06zNZm",
        "colab_type": "text"
      },
      "source": [
        "In some circumstances, we might know that we need to maximize either recall or precision at the cost of the other metric. For example, in disease screening of patients, we would probably want a recall near 1.0 i.e. we want to find all patients who have the disease.\n",
        "\n",
        "However, in cases where we want to obtain an optimal blend of precision and recall, we can use F1 score which is the harmonic mean of precision and recall taking both metrics into account while calculating it.\n",
        "\n",
        "f1 score = 2 * (precision * recall) / (precision + recall)"
      ]
    },
    {
      "cell_type": "markdown",
      "metadata": {
        "id": "c5IbRJ3gzNZn",
        "colab_type": "text"
      },
      "source": [
        "The below function computes precision and recall and F1 socre as explained above."
      ]
    },
    {
      "cell_type": "code",
      "metadata": {
        "id": "GFGhyV9OzNZo",
        "trusted": true,
        "colab_type": "code",
        "colab": {},
        "outputId": "09035eb4-dc28-4a74-ac18-ca073f26586b"
      },
      "source": [
        "#Calculate TP,FP,TN,FN at every threshold level (0.0 - 5.0)\n",
        "final = []\n",
        "\n",
        "for threshold in np.arange(0, 5.5, 0.5):\n",
        "    tp=0\n",
        "    fn=0\n",
        "    fp=0\n",
        "    tn=0\n",
        "    temp = []\n",
        "\n",
        "    for uid, _, true_r, est, _ in predictions:\n",
        "        if(true_r>=threshold):\n",
        "            if(est>=threshold):\n",
        "                tp = tp+1\n",
        "            else:\n",
        "                fn = fn+1\n",
        "        else:\n",
        "            if(est>=threshold):\n",
        "                fp = fp+1\n",
        "            else:\n",
        "                tn = tn+1   \n",
        "\n",
        "        if tp == 0:\n",
        "            precision = 0\n",
        "            recall = 0\n",
        "            f1 = 0\n",
        "        else:\n",
        "            precision = tp / (tp + fp)\n",
        "            recall = tp / (tp + fn)\n",
        "            f1 = 2 * (precision * recall) / (precision + recall)  \n",
        "\n",
        "    temp = [threshold, tp,fp,tn ,fn, precision, recall, f1]\n",
        "    final.append(temp)\n",
        "\n",
        "results = pd.DataFrame(final)\n",
        "results.rename(columns={0:'threshold', 1:'tp', 2: 'fp', 3: 'tn', 4:'fn', 5: 'Precision', 6:'Recall', 7:'F1'}, inplace=True)\n",
        "results\n"
      ],
      "execution_count": null,
      "outputs": [
        {
          "output_type": "execute_result",
          "data": {
            "text/plain": [
              "    threshold       tp      fp       tn      fn  Precision    Recall        F1\n",
              "0         0.0  3333346       0        0       0   1.000000  1.000000  1.000000\n",
              "1         0.5  3333346       0        0       0   1.000000  1.000000  1.000000\n",
              "2         1.0  3280858   52488        0       0   0.984254  1.000000  0.992064\n",
              "3         1.5  3169212  139421    16820    7893   0.957861  0.997516  0.977286\n",
              "4         2.0  3090914  162124    47444   32864   0.950162  0.989479  0.969422\n",
              "5         2.5  2809429  285869   142315   95733   0.907644  0.967047  0.936405\n",
              "6         3.0  2429143  267999   328626  307578   0.900636  0.887611  0.894076\n",
              "7         3.5  1536396  362506   888620  545824   0.809097  0.737864  0.771841\n",
              "8         4.0   703857  154283  1520422  954784   0.820212  0.424358  0.559331\n",
              "9         4.5   124018   49685  2509282  650361   0.713966  0.160152  0.261619\n",
              "10        5.0     8956    2343  2850082  471965   0.792637  0.018623  0.036390"
            ],
            "text/html": [
              "<div>\n",
              "<style scoped>\n",
              "    .dataframe tbody tr th:only-of-type {\n",
              "        vertical-align: middle;\n",
              "    }\n",
              "\n",
              "    .dataframe tbody tr th {\n",
              "        vertical-align: top;\n",
              "    }\n",
              "\n",
              "    .dataframe thead th {\n",
              "        text-align: right;\n",
              "    }\n",
              "</style>\n",
              "<table border=\"1\" class=\"dataframe\">\n",
              "  <thead>\n",
              "    <tr style=\"text-align: right;\">\n",
              "      <th></th>\n",
              "      <th>threshold</th>\n",
              "      <th>tp</th>\n",
              "      <th>fp</th>\n",
              "      <th>tn</th>\n",
              "      <th>fn</th>\n",
              "      <th>Precision</th>\n",
              "      <th>Recall</th>\n",
              "      <th>F1</th>\n",
              "    </tr>\n",
              "  </thead>\n",
              "  <tbody>\n",
              "    <tr>\n",
              "      <th>0</th>\n",
              "      <td>0.0</td>\n",
              "      <td>3333346</td>\n",
              "      <td>0</td>\n",
              "      <td>0</td>\n",
              "      <td>0</td>\n",
              "      <td>1.000000</td>\n",
              "      <td>1.000000</td>\n",
              "      <td>1.000000</td>\n",
              "    </tr>\n",
              "    <tr>\n",
              "      <th>1</th>\n",
              "      <td>0.5</td>\n",
              "      <td>3333346</td>\n",
              "      <td>0</td>\n",
              "      <td>0</td>\n",
              "      <td>0</td>\n",
              "      <td>1.000000</td>\n",
              "      <td>1.000000</td>\n",
              "      <td>1.000000</td>\n",
              "    </tr>\n",
              "    <tr>\n",
              "      <th>2</th>\n",
              "      <td>1.0</td>\n",
              "      <td>3280858</td>\n",
              "      <td>52488</td>\n",
              "      <td>0</td>\n",
              "      <td>0</td>\n",
              "      <td>0.984254</td>\n",
              "      <td>1.000000</td>\n",
              "      <td>0.992064</td>\n",
              "    </tr>\n",
              "    <tr>\n",
              "      <th>3</th>\n",
              "      <td>1.5</td>\n",
              "      <td>3169212</td>\n",
              "      <td>139421</td>\n",
              "      <td>16820</td>\n",
              "      <td>7893</td>\n",
              "      <td>0.957861</td>\n",
              "      <td>0.997516</td>\n",
              "      <td>0.977286</td>\n",
              "    </tr>\n",
              "    <tr>\n",
              "      <th>4</th>\n",
              "      <td>2.0</td>\n",
              "      <td>3090914</td>\n",
              "      <td>162124</td>\n",
              "      <td>47444</td>\n",
              "      <td>32864</td>\n",
              "      <td>0.950162</td>\n",
              "      <td>0.989479</td>\n",
              "      <td>0.969422</td>\n",
              "    </tr>\n",
              "    <tr>\n",
              "      <th>5</th>\n",
              "      <td>2.5</td>\n",
              "      <td>2809429</td>\n",
              "      <td>285869</td>\n",
              "      <td>142315</td>\n",
              "      <td>95733</td>\n",
              "      <td>0.907644</td>\n",
              "      <td>0.967047</td>\n",
              "      <td>0.936405</td>\n",
              "    </tr>\n",
              "    <tr>\n",
              "      <th>6</th>\n",
              "      <td>3.0</td>\n",
              "      <td>2429143</td>\n",
              "      <td>267999</td>\n",
              "      <td>328626</td>\n",
              "      <td>307578</td>\n",
              "      <td>0.900636</td>\n",
              "      <td>0.887611</td>\n",
              "      <td>0.894076</td>\n",
              "    </tr>\n",
              "    <tr>\n",
              "      <th>7</th>\n",
              "      <td>3.5</td>\n",
              "      <td>1536396</td>\n",
              "      <td>362506</td>\n",
              "      <td>888620</td>\n",
              "      <td>545824</td>\n",
              "      <td>0.809097</td>\n",
              "      <td>0.737864</td>\n",
              "      <td>0.771841</td>\n",
              "    </tr>\n",
              "    <tr>\n",
              "      <th>8</th>\n",
              "      <td>4.0</td>\n",
              "      <td>703857</td>\n",
              "      <td>154283</td>\n",
              "      <td>1520422</td>\n",
              "      <td>954784</td>\n",
              "      <td>0.820212</td>\n",
              "      <td>0.424358</td>\n",
              "      <td>0.559331</td>\n",
              "    </tr>\n",
              "    <tr>\n",
              "      <th>9</th>\n",
              "      <td>4.5</td>\n",
              "      <td>124018</td>\n",
              "      <td>49685</td>\n",
              "      <td>2509282</td>\n",
              "      <td>650361</td>\n",
              "      <td>0.713966</td>\n",
              "      <td>0.160152</td>\n",
              "      <td>0.261619</td>\n",
              "    </tr>\n",
              "    <tr>\n",
              "      <th>10</th>\n",
              "      <td>5.0</td>\n",
              "      <td>8956</td>\n",
              "      <td>2343</td>\n",
              "      <td>2850082</td>\n",
              "      <td>471965</td>\n",
              "      <td>0.792637</td>\n",
              "      <td>0.018623</td>\n",
              "      <td>0.036390</td>\n",
              "    </tr>\n",
              "  </tbody>\n",
              "</table>\n",
              "</div>"
            ]
          },
          "metadata": {
            "tags": []
          },
          "execution_count": 57
        }
      ]
    },
    {
      "cell_type": "markdown",
      "metadata": {
        "id": "EIrRALn-zNZu",
        "colab_type": "text"
      },
      "source": [
        "As per the results above, the optimal value for threshold is 2.5.\n",
        "\n",
        "The next step is to find the optimal K value, and to find if we have to first calculate precision and recall for all the K values(2-10) having threshold value 2.5.\n",
        "\n",
        "Below is the function to calculate precision and recall at K."
      ]
    },
    {
      "cell_type": "code",
      "metadata": {
        "id": "r0wacnznzNZw",
        "trusted": true,
        "colab_type": "code",
        "colab": {}
      },
      "source": [
        "def precision_recall_at_k(predictions, k, threshold):\n",
        "    '''Return precision and recall at k metrics for each user.'''\n",
        "\n",
        "    # First map the predictions to each user.\n",
        "    user_est_true = defaultdict(list)\n",
        "    for uid, _, true_r, est, _ in predictions:\n",
        "        user_est_true[uid].append((est, true_r))\n",
        "\n",
        "    precisions = dict()\n",
        "    recalls = dict()\n",
        "    for uid, user_ratings in user_est_true.items():\n",
        "\n",
        "        # Sort user ratings by estimated value\n",
        "        user_ratings.sort(key=lambda x: x[0], reverse=True)\n",
        "\n",
        "        # Number of relevant items\n",
        "        n_rel = sum((true_r >= threshold) for (_, true_r) in user_ratings)\n",
        "\n",
        "        # Number of recommended items in top k\n",
        "        n_rec_k = sum((est >= threshold) for (est, _) in user_ratings[:k])\n",
        "\n",
        "        # Number of relevant and recommended items in top k\n",
        "        n_rel_and_rec_k = sum(((true_r >= threshold) and (est >= threshold))\n",
        "                              for (est, true_r) in user_ratings[:k])\n",
        "\n",
        "        # Precision@K: Proportion of recommended items that are relevant\n",
        "        precisions[uid] = n_rel_and_rec_k / n_rec_k if n_rec_k != 0 else 1\n",
        "\n",
        "        # Recall@K: Proportion of relevant items that are recommended\n",
        "        recalls[uid] = n_rel_and_rec_k / n_rel if n_rel != 0 else 1\n",
        "\n",
        "    #tp = n_rel_and_rec_k\n",
        "    #fn =  n_rel - tp\n",
        "    #fp = n_rec_k - tp\n",
        "    return precisions, recalls\n",
        "    "
      ],
      "execution_count": null,
      "outputs": []
    },
    {
      "cell_type": "code",
      "metadata": {
        "id": "8hD7jGUPzNZ0",
        "trusted": true,
        "colab_type": "code",
        "colab": {}
      },
      "source": [
        "results=[]\n",
        "for i in range(2, 11):\n",
        "    precisions, recalls = precision_recall_at_k(predictions, k=i, threshold=2.5)\n",
        "\n",
        "    # Precision and recall can then be averaged over all users\n",
        "    prec = sum(prec for prec in precisions.values()) / len(precisions)\n",
        "    rec = sum(rec for rec in recalls.values()) / len(recalls)\n",
        "    results.append({'K': i, 'Precision': prec, 'Recall': rec})"
      ],
      "execution_count": null,
      "outputs": []
    },
    {
      "cell_type": "code",
      "metadata": {
        "id": "06oLGgEQzNZ4",
        "trusted": true,
        "colab_type": "code",
        "colab": {},
        "outputId": "368a810e-4acd-4a48-fd07-4f64cdc526ae"
      },
      "source": [
        "Rec = []\n",
        "Precision = []\n",
        "Recall = []\n",
        "for i in range(0, 9):\n",
        "    Rec.append(results[i]['K'])\n",
        "    Precision.append(results[i]['Precision'])\n",
        "    Recall.append(results[i]['Recall'])\n",
        "\n",
        "plt.plot(Rec, Precision)\n",
        "plt.xlabel('# of Recommendations')\n",
        "plt.ylabel('Precision')\n",
        "plt2 = plt.twinx()\n",
        "plt2.plot(Rec, Recall, 'r')\n",
        "plt.ylabel('Recall')\n",
        "\n",
        "for tl in plt2.get_yticklabels():\n",
        "    tl.set_color('r')\n"
      ],
      "execution_count": null,
      "outputs": [
        {
          "output_type": "display_data",
          "data": {
            "text/plain": [
              "<Figure size 432x288 with 2 Axes>"
            ],
            "image/png": "[encoded data removed]"
          },
          "metadata": {
            "tags": [],
            "needs_background": "light"
          }
        }
      ]
    },
    {
      "cell_type": "markdown",
      "metadata": {
        "id": "gm2wHW8YzNZ9",
        "colab_type": "text"
      },
      "source": [
        "As the graph states, Precision drops significantly when K=4\n",
        "\n",
        "So we will consider the value of K to be 4."
      ]
    },
    {
      "cell_type": "markdown",
      "metadata": {
        "id": "xw23eYWPzNZ-",
        "colab_type": "text"
      },
      "source": [
        " #  Testing Model's Recommendation Ability"
      ]
    },
    {
      "cell_type": "markdown",
      "metadata": {
        "id": "0uU3cAtJzNZ_",
        "colab_type": "text"
      },
      "source": [
        "As we know the optimal number of recommendations to provide, it's time to give recommendations to users. To do so we have to predict ratings for the movies which user have not yet watched."
      ]
    },
    {
      "cell_type": "markdown",
      "metadata": {
        "id": "55_KYU_4zNaA",
        "colab_type": "text"
      },
      "source": [
        "Here we will be using build_anti_testset() method to get the data for testset as we have to predict ratings for the (user, item) pairs which are not present."
      ]
    },
    {
      "cell_type": "code",
      "metadata": {
        "id": "ic_g24YzzNaG",
        "trusted": true,
        "colab_type": "code",
        "colab": {}
      },
      "source": [
        "def get_all_predictions(predictions):\n",
        "    \n",
        "    # First map the predictions to each user.\n",
        "    top_n = defaultdict(list)    \n",
        "    for uid, iid, true_r, est, _ in predictions:\n",
        "        top_n[uid].append((iid, est))\n",
        "\n",
        "    # Then sort the predictions for each user\n",
        "    for uid, user_ratings in top_n.items():\n",
        "        user_ratings.sort(key=lambda x: x[1], reverse=True)\n",
        "\n",
        "    return top_n\n",
        "    "
      ],
      "execution_count": null,
      "outputs": []
    },
    {
      "cell_type": "code",
      "metadata": {
        "id": "OOCoCqFszNaN",
        "trusted": true,
        "colab_type": "code",
        "colab": {}
      },
      "source": [
        "all_pred = get_all_predictions(predictions)\n"
      ],
      "execution_count": null,
      "outputs": []
    },
    {
      "cell_type": "markdown",
      "metadata": {
        "id": "WoLU5WDGzNaW",
        "colab_type": "text"
      },
      "source": [
        "As we have all the predicted rating, we'll subset to only top K movies for every user, where K is 4"
      ]
    },
    {
      "cell_type": "code",
      "metadata": {
        "id": "g8J083adzNaX",
        "trusted": true,
        "colab_type": "code",
        "colab": {}
      },
      "source": [
        "#To get top 4 recommendation\n",
        "n = 4\n",
        "\n",
        "for uid, user_ratings in all_pred.items():\n",
        "    user_ratings.sort(key=lambda x: x[1], reverse=True)\n",
        "    all_pred[uid] = user_ratings[:n]\n",
        "    "
      ],
      "execution_count": null,
      "outputs": []
    },
    {
      "cell_type": "code",
      "metadata": {
        "id": "KXSi38E5zNaf",
        "trusted": true,
        "colab_type": "code",
        "colab": {}
      },
      "source": [
        "tmp2 = pd.DataFrame(dict([ (k,pd.Series(v)) for k,v in all_pred.items() ]))\n",
        "tmp2\n",
        "tmp_transpose = tmp2.transpose()\n"
      ],
      "execution_count": null,
      "outputs": []
    },
    {
      "cell_type": "code",
      "metadata": {
        "id": "KFUausRXzNaj",
        "trusted": true,
        "colab_type": "code",
        "colab": {},
        "outputId": "dbc3d0ea-4d21-48a1-b1e2-e10895765b2a"
      },
      "source": [
        "tmp_transpose\n"
      ],
      "execution_count": null,
      "outputs": [
        {
          "output_type": "execute_result",
          "data": {
            "text/plain": [
              "                                 0                           1  \\\n",
              "120831   (1193, 4.289396431510772)  (55442, 4.170481048306198)   \n",
              "3794     (1208, 4.081711477602463)   (1089, 4.040299251673699)   \n",
              "115056   (1089, 4.474930513973772)    (318, 4.451470789987054)   \n",
              "13411     (919, 4.147073708796219)   (7034, 3.966300289361904)   \n",
              "133629   (3030, 4.910036961126144)    (947, 4.749580225119588)   \n",
              "...                            ...                         ...   \n",
              "161420      (593, 4.5539393408193)                         NaN   \n",
              "14758    (836, 3.5090464016818608)                         NaN   \n",
              "68557    (1704, 4.364413666605029)                         NaN   \n",
              "144458  (2296, 3.5195478604369304)                         NaN   \n",
              "92736     (800, 4.116849882823366)                         NaN   \n",
              "\n",
              "                                2                            3  \n",
              "120831  (2762, 4.092727461426976)    (2571, 4.086603368871105)  \n",
              "3794    (1921, 4.021442674089149)    (4235, 4.001239699752892)  \n",
              "115056   (608, 4.271436021328054)  (96606, 4.1982445908757775)  \n",
              "13411   (6539, 3.944120129168072)   (5991, 3.8764840392470754)  \n",
              "133629  (1131, 4.728058657490808)    (1250, 4.692030084477275)  \n",
              "...                           ...                          ...  \n",
              "161420                        NaN                          NaN  \n",
              "14758                         NaN                          NaN  \n",
              "68557                         NaN                          NaN  \n",
              "144458                        NaN                          NaN  \n",
              "92736                         NaN                          NaN  \n",
              "\n",
              "[161339 rows x 4 columns]"
            ],
            "text/html": [
              "<div>\n",
              "<style scoped>\n",
              "    .dataframe tbody tr th:only-of-type {\n",
              "        vertical-align: middle;\n",
              "    }\n",
              "\n",
              "    .dataframe tbody tr th {\n",
              "        vertical-align: top;\n",
              "    }\n",
              "\n",
              "    .dataframe thead th {\n",
              "        text-align: right;\n",
              "    }\n",
              "</style>\n",
              "<table border=\"1\" class=\"dataframe\">\n",
              "  <thead>\n",
              "    <tr style=\"text-align: right;\">\n",
              "      <th></th>\n",
              "      <th>0</th>\n",
              "      <th>1</th>\n",
              "      <th>2</th>\n",
              "      <th>3</th>\n",
              "    </tr>\n",
              "  </thead>\n",
              "  <tbody>\n",
              "    <tr>\n",
              "      <th>120831</th>\n",
              "      <td>(1193, 4.289396431510772)</td>\n",
              "      <td>(55442, 4.170481048306198)</td>\n",
              "      <td>(2762, 4.092727461426976)</td>\n",
              "      <td>(2571, 4.086603368871105)</td>\n",
              "    </tr>\n",
              "    <tr>\n",
              "      <th>3794</th>\n",
              "      <td>(1208, 4.081711477602463)</td>\n",
              "      <td>(1089, 4.040299251673699)</td>\n",
              "      <td>(1921, 4.021442674089149)</td>\n",
              "      <td>(4235, 4.001239699752892)</td>\n",
              "    </tr>\n",
              "    <tr>\n",
              "      <th>115056</th>\n",
              "      <td>(1089, 4.474930513973772)</td>\n",
              "      <td>(318, 4.451470789987054)</td>\n",
              "      <td>(608, 4.271436021328054)</td>\n",
              "      <td>(96606, 4.1982445908757775)</td>\n",
              "    </tr>\n",
              "    <tr>\n",
              "      <th>13411</th>\n",
              "      <td>(919, 4.147073708796219)</td>\n",
              "      <td>(7034, 3.966300289361904)</td>\n",
              "      <td>(6539, 3.944120129168072)</td>\n",
              "      <td>(5991, 3.8764840392470754)</td>\n",
              "    </tr>\n",
              "    <tr>\n",
              "      <th>133629</th>\n",
              "      <td>(3030, 4.910036961126144)</td>\n",
              "      <td>(947, 4.749580225119588)</td>\n",
              "      <td>(1131, 4.728058657490808)</td>\n",
              "      <td>(1250, 4.692030084477275)</td>\n",
              "    </tr>\n",
              "    <tr>\n",
              "      <th>...</th>\n",
              "      <td>...</td>\n",
              "      <td>...</td>\n",
              "      <td>...</td>\n",
              "      <td>...</td>\n",
              "    </tr>\n",
              "    <tr>\n",
              "      <th>161420</th>\n",
              "      <td>(593, 4.5539393408193)</td>\n",
              "      <td>NaN</td>\n",
              "      <td>NaN</td>\n",
              "      <td>NaN</td>\n",
              "    </tr>\n",
              "    <tr>\n",
              "      <th>14758</th>\n",
              "      <td>(836, 3.5090464016818608)</td>\n",
              "      <td>NaN</td>\n",
              "      <td>NaN</td>\n",
              "      <td>NaN</td>\n",
              "    </tr>\n",
              "    <tr>\n",
              "      <th>68557</th>\n",
              "      <td>(1704, 4.364413666605029)</td>\n",
              "      <td>NaN</td>\n",
              "      <td>NaN</td>\n",
              "      <td>NaN</td>\n",
              "    </tr>\n",
              "    <tr>\n",
              "      <th>144458</th>\n",
              "      <td>(2296, 3.5195478604369304)</td>\n",
              "      <td>NaN</td>\n",
              "      <td>NaN</td>\n",
              "      <td>NaN</td>\n",
              "    </tr>\n",
              "    <tr>\n",
              "      <th>92736</th>\n",
              "      <td>(800, 4.116849882823366)</td>\n",
              "      <td>NaN</td>\n",
              "      <td>NaN</td>\n",
              "      <td>NaN</td>\n",
              "    </tr>\n",
              "  </tbody>\n",
              "</table>\n",
              "<p>161339 rows × 4 columns</p>\n",
              "</div>"
            ]
          },
          "metadata": {
            "tags": []
          },
          "execution_count": 65
        }
      ]
    },
    {
      "cell_type": "markdown",
      "metadata": {
        "id": "af9kJbx_zNao",
        "colab_type": "text"
      },
      "source": [
        "Now we have a dataframe which consits of top 4 movies recommended to every user.\n",
        "Let's try one example and find recommendations for user 67.\n",
        "\n",
        "Also in our streamlit app."
      ]
    },
    {
      "cell_type": "code",
      "metadata": {
        "id": "DhQXQC0uzNap",
        "trusted": true,
        "colab_type": "code",
        "colab": {}
      },
      "source": [
        "def get_predictions(user_id):\n",
        "    results = tmp_transpose.loc[user_id]\n",
        "    return results\n",
        "    "
      ],
      "execution_count": null,
      "outputs": []
    },
    {
      "cell_type": "code",
      "metadata": {
        "id": "FwksLDfAzNat",
        "trusted": true,
        "colab_type": "code",
        "colab": {},
        "outputId": "5ac56773-7e40-45fc-b76f-32d43c967e4d"
      },
      "source": [
        "user_id = 67\n",
        "results = get_predictions(user_id)\n",
        "results\n"
      ],
      "execution_count": null,
      "outputs": [
        {
          "output_type": "execute_result",
          "data": {
            "text/plain": [
              "0     (1270, 3.537249746934564)\n",
              "1    (1097, 3.4615038096584367)\n",
              "2    (2193, 3.2730051585766264)\n",
              "3    (1967, 3.2438425578088386)\n",
              "Name: 67, dtype: object"
            ]
          },
          "metadata": {
            "tags": []
          },
          "execution_count": 67
        }
      ]
    },
    {
      "cell_type": "markdown",
      "metadata": {
        "id": "btNjVdgHzNax",
        "colab_type": "text"
      },
      "source": [
        "Above matrix is showing top \"4\" recommendations for user 67. (Movie-id, Predicted-Rating).\n",
        "But we just need the movies not the ratings, so let's extract the movie id's from the result."
      ]
    },
    {
      "cell_type": "code",
      "metadata": {
        "id": "ZkrQts7YzNay",
        "trusted": true,
        "colab_type": "code",
        "colab": {},
        "outputId": "8ed80acf-ccca-4872-857e-4a488e58e3ac"
      },
      "source": [
        "recommended_movie_ids = []\n",
        "for x in range(0, n):\n",
        "    recommended_movie_ids.append(results[x][0])\n",
        "\n",
        "recommended_movie_ids\n"
      ],
      "execution_count": null,
      "outputs": [
        {
          "output_type": "execute_result",
          "data": {
            "text/plain": [
              "[1270, 1097, 2193, 1967]"
            ]
          },
          "metadata": {
            "tags": []
          },
          "execution_count": 68
        }
      ]
    },
    {
      "cell_type": "markdown",
      "metadata": {
        "id": "HjB2C1S_zNa5",
        "colab_type": "text"
      },
      "source": [
        "Now as we have the movie-id's to be recommended, Let's find out the movie details of those id's by reading the movie data."
      ]
    },
    {
      "cell_type": "code",
      "metadata": {
        "id": "VCR-CStwzNa6",
        "trusted": true,
        "colab_type": "code",
        "colab": {},
        "outputId": "b3cd0af6-29b3-4227-bc5c-c85c1213606e"
      },
      "source": [
        "movies = pd.read_csv('/kaggle/input/edsa-recommender-system-predict/movies.csv')\n",
        "movies.head()\n",
        "recommended_movies = movies[movies['movieId'].isin(recommended_movie_ids)]\n",
        "recommended_movies\n"
      ],
      "execution_count": null,
      "outputs": [
        {
          "output_type": "execute_result",
          "data": {
            "text/plain": [
              "      movieId                              title                     genres\n",
              "1070     1097  E.T. the Extra-Terrestrial (1982)      Children|Drama|Sci-Fi\n",
              "1237     1270          Back to the Future (1985)    Adventure|Comedy|Sci-Fi\n",
              "1878     1967                   Labyrinth (1986)  Adventure|Fantasy|Musical\n",
              "2103     2193                      Willow (1988)   Action|Adventure|Fantasy"
            ],
            "text/html": [
              "<div>\n",
              "<style scoped>\n",
              "    .dataframe tbody tr th:only-of-type {\n",
              "        vertical-align: middle;\n",
              "    }\n",
              "\n",
              "    .dataframe tbody tr th {\n",
              "        vertical-align: top;\n",
              "    }\n",
              "\n",
              "    .dataframe thead th {\n",
              "        text-align: right;\n",
              "    }\n",
              "</style>\n",
              "<table border=\"1\" class=\"dataframe\">\n",
              "  <thead>\n",
              "    <tr style=\"text-align: right;\">\n",
              "      <th></th>\n",
              "      <th>movieId</th>\n",
              "      <th>title</th>\n",
              "      <th>genres</th>\n",
              "    </tr>\n",
              "  </thead>\n",
              "  <tbody>\n",
              "    <tr>\n",
              "      <th>1070</th>\n",
              "      <td>1097</td>\n",
              "      <td>E.T. the Extra-Terrestrial (1982)</td>\n",
              "      <td>Children|Drama|Sci-Fi</td>\n",
              "    </tr>\n",
              "    <tr>\n",
              "      <th>1237</th>\n",
              "      <td>1270</td>\n",
              "      <td>Back to the Future (1985)</td>\n",
              "      <td>Adventure|Comedy|Sci-Fi</td>\n",
              "    </tr>\n",
              "    <tr>\n",
              "      <th>1878</th>\n",
              "      <td>1967</td>\n",
              "      <td>Labyrinth (1986)</td>\n",
              "      <td>Adventure|Fantasy|Musical</td>\n",
              "    </tr>\n",
              "    <tr>\n",
              "      <th>2103</th>\n",
              "      <td>2193</td>\n",
              "      <td>Willow (1988)</td>\n",
              "      <td>Action|Adventure|Fantasy</td>\n",
              "    </tr>\n",
              "  </tbody>\n",
              "</table>\n",
              "</div>"
            ]
          },
          "metadata": {
            "tags": []
          },
          "execution_count": 69
        }
      ]
    },
    {
      "cell_type": "code",
      "metadata": {
        "id": "-nMnqVdxzNbB",
        "trusted": true,
        "colab_type": "code",
        "colab": {},
        "outputId": "b93f301f-189a-40ee-deed-d3eecf97dddb"
      },
      "source": [
        "ratings_dict = {'itemId': list(train.movieId),\n",
        "                'userId': list(train.userId),\n",
        "                'rating': list(train.rating)}\n",
        "\n",
        "df = pd.DataFrame(ratings_dict)\n",
        "df.head()\n"
      ],
      "execution_count": null,
      "outputs": [
        {
          "output_type": "execute_result",
          "data": {
            "text/plain": [
              "   itemId  userId  rating\n",
              "0   57669    5163     4.0\n",
              "1       5  106343     4.5\n",
              "2    5459  146790     5.0\n",
              "3   32296  106362     2.0\n",
              "4     366    9041     3.0"
            ],
            "text/html": [
              "<div>\n",
              "<style scoped>\n",
              "    .dataframe tbody tr th:only-of-type {\n",
              "        vertical-align: middle;\n",
              "    }\n",
              "\n",
              "    .dataframe tbody tr th {\n",
              "        vertical-align: top;\n",
              "    }\n",
              "\n",
              "    .dataframe thead th {\n",
              "        text-align: right;\n",
              "    }\n",
              "</style>\n",
              "<table border=\"1\" class=\"dataframe\">\n",
              "  <thead>\n",
              "    <tr style=\"text-align: right;\">\n",
              "      <th></th>\n",
              "      <th>itemId</th>\n",
              "      <th>userId</th>\n",
              "      <th>rating</th>\n",
              "    </tr>\n",
              "  </thead>\n",
              "  <tbody>\n",
              "    <tr>\n",
              "      <th>0</th>\n",
              "      <td>57669</td>\n",
              "      <td>5163</td>\n",
              "      <td>4.0</td>\n",
              "    </tr>\n",
              "    <tr>\n",
              "      <th>1</th>\n",
              "      <td>5</td>\n",
              "      <td>106343</td>\n",
              "      <td>4.5</td>\n",
              "    </tr>\n",
              "    <tr>\n",
              "      <th>2</th>\n",
              "      <td>5459</td>\n",
              "      <td>146790</td>\n",
              "      <td>5.0</td>\n",
              "    </tr>\n",
              "    <tr>\n",
              "      <th>3</th>\n",
              "      <td>32296</td>\n",
              "      <td>106362</td>\n",
              "      <td>2.0</td>\n",
              "    </tr>\n",
              "    <tr>\n",
              "      <th>4</th>\n",
              "      <td>366</td>\n",
              "      <td>9041</td>\n",
              "      <td>3.0</td>\n",
              "    </tr>\n",
              "  </tbody>\n",
              "</table>\n",
              "</div>"
            ]
          },
          "metadata": {
            "tags": []
          },
          "execution_count": 70
        }
      ]
    },
    {
      "cell_type": "code",
      "metadata": {
        "id": "aM0a6aJ6zNbL",
        "trusted": true,
        "colab_type": "code",
        "colab": {},
        "outputId": "b1c2ab2e-9a76-4ce3-fa03-9d7ef5ee0fbe"
      },
      "source": [
        "temp = df[df['userId'] == 67].sort_values(\"rating\", ascending = False)\n",
        "temp.head()\n"
      ],
      "execution_count": null,
      "outputs": [
        {
          "output_type": "execute_result",
          "data": {
            "text/plain": [
              "         itemId  userId  rating\n",
              "6344287    2571      67     5.0\n",
              "3004       2193      67     4.0\n",
              "2455852     891      67     4.0\n",
              "9523893    2089      67     4.0\n",
              "8360207    1752      67     4.0"
            ],
            "text/html": [
              "<div>\n",
              "<style scoped>\n",
              "    .dataframe tbody tr th:only-of-type {\n",
              "        vertical-align: middle;\n",
              "    }\n",
              "\n",
              "    .dataframe tbody tr th {\n",
              "        vertical-align: top;\n",
              "    }\n",
              "\n",
              "    .dataframe thead th {\n",
              "        text-align: right;\n",
              "    }\n",
              "</style>\n",
              "<table border=\"1\" class=\"dataframe\">\n",
              "  <thead>\n",
              "    <tr style=\"text-align: right;\">\n",
              "      <th></th>\n",
              "      <th>itemId</th>\n",
              "      <th>userId</th>\n",
              "      <th>rating</th>\n",
              "    </tr>\n",
              "  </thead>\n",
              "  <tbody>\n",
              "    <tr>\n",
              "      <th>6344287</th>\n",
              "      <td>2571</td>\n",
              "      <td>67</td>\n",
              "      <td>5.0</td>\n",
              "    </tr>\n",
              "    <tr>\n",
              "      <th>3004</th>\n",
              "      <td>2193</td>\n",
              "      <td>67</td>\n",
              "      <td>4.0</td>\n",
              "    </tr>\n",
              "    <tr>\n",
              "      <th>2455852</th>\n",
              "      <td>891</td>\n",
              "      <td>67</td>\n",
              "      <td>4.0</td>\n",
              "    </tr>\n",
              "    <tr>\n",
              "      <th>9523893</th>\n",
              "      <td>2089</td>\n",
              "      <td>67</td>\n",
              "      <td>4.0</td>\n",
              "    </tr>\n",
              "    <tr>\n",
              "      <th>8360207</th>\n",
              "      <td>1752</td>\n",
              "      <td>67</td>\n",
              "      <td>4.0</td>\n",
              "    </tr>\n",
              "  </tbody>\n",
              "</table>\n",
              "</div>"
            ]
          },
          "metadata": {
            "tags": []
          },
          "execution_count": 71
        }
      ]
    },
    {
      "cell_type": "code",
      "metadata": {
        "id": "x_LjTifSzNbO",
        "trusted": true,
        "colab_type": "code",
        "colab": {},
        "outputId": "c7d300bb-0a63-4961-e979-77668827a0c8"
      },
      "source": [
        "temp.shape\n"
      ],
      "execution_count": null,
      "outputs": [
        {
          "output_type": "execute_result",
          "data": {
            "text/plain": [
              "(49, 3)"
            ]
          },
          "metadata": {
            "tags": []
          },
          "execution_count": 72
        }
      ]
    },
    {
      "cell_type": "markdown",
      "metadata": {
        "id": "pbPTpI0WzNbT",
        "colab_type": "text"
      },
      "source": [
        "We can see that user 67 have rated 49 movies"
      ]
    },
    {
      "cell_type": "code",
      "metadata": {
        "id": "WeaAye2WzNbT",
        "trusted": true,
        "colab_type": "code",
        "colab": {}
      },
      "source": [
        "history_movie_ids = temp['itemId']\n",
        "user_history = movies[movies['movieId'].isin(history_movie_ids)]\n"
      ],
      "execution_count": null,
      "outputs": []
    },
    {
      "cell_type": "code",
      "metadata": {
        "id": "OSHNL7TBzNbX",
        "trusted": true,
        "colab_type": "code",
        "colab": {},
        "outputId": "7fc03649-572a-4a91-ee94-87517c6986fb"
      },
      "source": [
        "user_history[:n]\n"
      ],
      "execution_count": null,
      "outputs": [
        {
          "output_type": "execute_result",
          "data": {
            "text/plain": [
              "     movieId                                  title  \\\n",
              "1          2                         Jumanji (1995)   \n",
              "18        19  Ace Ventura: When Nature Calls (1995)   \n",
              "43        44                   Mortal Kombat (1995)   \n",
              "108      110                      Braveheart (1995)   \n",
              "\n",
              "                         genres  \n",
              "1    Adventure|Children|Fantasy  \n",
              "18                       Comedy  \n",
              "43     Action|Adventure|Fantasy  \n",
              "108            Action|Drama|War  "
            ],
            "text/html": [
              "<div>\n",
              "<style scoped>\n",
              "    .dataframe tbody tr th:only-of-type {\n",
              "        vertical-align: middle;\n",
              "    }\n",
              "\n",
              "    .dataframe tbody tr th {\n",
              "        vertical-align: top;\n",
              "    }\n",
              "\n",
              "    .dataframe thead th {\n",
              "        text-align: right;\n",
              "    }\n",
              "</style>\n",
              "<table border=\"1\" class=\"dataframe\">\n",
              "  <thead>\n",
              "    <tr style=\"text-align: right;\">\n",
              "      <th></th>\n",
              "      <th>movieId</th>\n",
              "      <th>title</th>\n",
              "      <th>genres</th>\n",
              "    </tr>\n",
              "  </thead>\n",
              "  <tbody>\n",
              "    <tr>\n",
              "      <th>1</th>\n",
              "      <td>2</td>\n",
              "      <td>Jumanji (1995)</td>\n",
              "      <td>Adventure|Children|Fantasy</td>\n",
              "    </tr>\n",
              "    <tr>\n",
              "      <th>18</th>\n",
              "      <td>19</td>\n",
              "      <td>Ace Ventura: When Nature Calls (1995)</td>\n",
              "      <td>Comedy</td>\n",
              "    </tr>\n",
              "    <tr>\n",
              "      <th>43</th>\n",
              "      <td>44</td>\n",
              "      <td>Mortal Kombat (1995)</td>\n",
              "      <td>Action|Adventure|Fantasy</td>\n",
              "    </tr>\n",
              "    <tr>\n",
              "      <th>108</th>\n",
              "      <td>110</td>\n",
              "      <td>Braveheart (1995)</td>\n",
              "      <td>Action|Drama|War</td>\n",
              "    </tr>\n",
              "  </tbody>\n",
              "</table>\n",
              "</div>"
            ]
          },
          "metadata": {
            "tags": []
          },
          "execution_count": 74
        }
      ]
    },
    {
      "cell_type": "markdown",
      "metadata": {
        "id": "w6A_guk5zNba",
        "colab_type": "text"
      },
      "source": [
        "Now we can compare the results with the user history and see how relevant the recommendations are.\n",
        "\n",
        "\n",
        "Above is the user history and below the recommended movies"
      ]
    },
    {
      "cell_type": "code",
      "metadata": {
        "id": "CsvtRxCqzNbb",
        "trusted": true,
        "colab_type": "code",
        "colab": {},
        "outputId": "6a581931-be96-4fc0-9171-0c240845fecd"
      },
      "source": [
        "recommended_movies\n"
      ],
      "execution_count": null,
      "outputs": [
        {
          "output_type": "execute_result",
          "data": {
            "text/plain": [
              "      movieId                              title                     genres\n",
              "1070     1097  E.T. the Extra-Terrestrial (1982)      Children|Drama|Sci-Fi\n",
              "1237     1270          Back to the Future (1985)    Adventure|Comedy|Sci-Fi\n",
              "1878     1967                   Labyrinth (1986)  Adventure|Fantasy|Musical\n",
              "2103     2193                      Willow (1988)   Action|Adventure|Fantasy"
            ],
            "text/html": [
              "<div>\n",
              "<style scoped>\n",
              "    .dataframe tbody tr th:only-of-type {\n",
              "        vertical-align: middle;\n",
              "    }\n",
              "\n",
              "    .dataframe tbody tr th {\n",
              "        vertical-align: top;\n",
              "    }\n",
              "\n",
              "    .dataframe thead th {\n",
              "        text-align: right;\n",
              "    }\n",
              "</style>\n",
              "<table border=\"1\" class=\"dataframe\">\n",
              "  <thead>\n",
              "    <tr style=\"text-align: right;\">\n",
              "      <th></th>\n",
              "      <th>movieId</th>\n",
              "      <th>title</th>\n",
              "      <th>genres</th>\n",
              "    </tr>\n",
              "  </thead>\n",
              "  <tbody>\n",
              "    <tr>\n",
              "      <th>1070</th>\n",
              "      <td>1097</td>\n",
              "      <td>E.T. the Extra-Terrestrial (1982)</td>\n",
              "      <td>Children|Drama|Sci-Fi</td>\n",
              "    </tr>\n",
              "    <tr>\n",
              "      <th>1237</th>\n",
              "      <td>1270</td>\n",
              "      <td>Back to the Future (1985)</td>\n",
              "      <td>Adventure|Comedy|Sci-Fi</td>\n",
              "    </tr>\n",
              "    <tr>\n",
              "      <th>1878</th>\n",
              "      <td>1967</td>\n",
              "      <td>Labyrinth (1986)</td>\n",
              "      <td>Adventure|Fantasy|Musical</td>\n",
              "    </tr>\n",
              "    <tr>\n",
              "      <th>2103</th>\n",
              "      <td>2193</td>\n",
              "      <td>Willow (1988)</td>\n",
              "      <td>Action|Adventure|Fantasy</td>\n",
              "    </tr>\n",
              "  </tbody>\n",
              "</table>\n",
              "</div>"
            ]
          },
          "metadata": {
            "tags": []
          },
          "execution_count": 75
        }
      ]
    },
    {
      "cell_type": "markdown",
      "metadata": {
        "id": "-z7xLI-GzNbe",
        "colab_type": "text"
      },
      "source": [
        "The history of the user tells that they enjoy movies in the Adventure, Children,Animation, Drama, Comedy, Action and War genres. Our model recommends movies in the same genres, this gives us a good indication that our model has very good predictive/recommendation ability."
      ]
    },
    {
      "cell_type": "markdown",
      "metadata": {
        "id": "ozFV9un6MOQv",
        "colab_type": "text"
      },
      "source": [
        "# Conclusion"
      ]
    },
    {
      "cell_type": "markdown",
      "metadata": {
        "id": "Cb7bL1y4MP0P",
        "colab_type": "text"
      },
      "source": [
        "Our model was able to give great recommendations for movies and accurately predict a user's rating towards a movie, before they have even seen it, using a Collaborative filtering algorithm.\n",
        "\n",
        "As we assessed the overall performance of the model based on other non-statistical aspects we can conclude that the model has high predictive ability.\n",
        "\n",
        "This has an immense economic potential for the service providers and provides a pleasant experience to the consumers of the content\n"
      ]
    },
    {
      "cell_type": "markdown",
      "metadata": {
        "id": "Nbmg6iXnvmCz",
        "colab_type": "text"
      },
      "source": [
        "# Ending Comet Experiment "
      ]
    },
    {
      "cell_type": "code",
      "metadata": {
        "id": "rpxqQNtElrSO",
        "trusted": true,
        "colab_type": "code",
        "colab": {}
      },
      "source": [
        "f1 = f1_score(y_test, y_predsm,average='macro')\n",
        "precision = precision_score(y_test, y_pred,average='macro')\n",
        "recall = recall_score(y_test, y_pred,average='macro')"
      ],
      "execution_count": null,
      "outputs": []
    },
    {
      "cell_type": "code",
      "metadata": {
        "id": "fj4bnIpulu7A",
        "trusted": true,
        "colab_type": "code",
        "colab": {}
      },
      "source": [
        "params = {\"kernel\": 'linear',\"model_type\": \"SVC\",\"stratify\": True}"
      ],
      "execution_count": null,
      "outputs": []
    },
    {
      "cell_type": "code",
      "metadata": {
        "id": "FTf-8PDylyT_",
        "trusted": true,
        "colab_type": "code",
        "colab": {}
      },
      "source": [
        "params = {\"model_type\": \"SVC\",\"stratify\": True}\n",
        "\n",
        "metrics = {\"f1\": f1,\"recall\": recall,\"precision\": precision}"
      ],
      "execution_count": null,
      "outputs": []
    },
    {
      "cell_type": "code",
      "metadata": {
        "id": "bqS7HJQSl48x",
        "trusted": true,
        "colab_type": "code",
        "colab": {}
      },
      "source": [
        "# Log our parameters and results\n",
        "experiment.log_parameters(params)\n",
        "experiment.log_metrics(metrics)"
      ],
      "execution_count": null,
      "outputs": []
    },
    {
      "cell_type": "code",
      "metadata": {
        "id": "w8vwYqsPl_gL",
        "trusted": true,
        "colab_type": "code",
        "colab": {},
        "outputId": "58f3e947-4e98-476c-d03e-c5e59ca5df50"
      },
      "source": [
        "experiment.end()"
      ],
      "execution_count": null,
      "outputs": [
        {
          "output_type": "stream",
          "text": [
            "COMET INFO: ---------------------------\n",
            "COMET INFO: Comet.ml Experiment Summary\n",
            "COMET INFO: ---------------------------\n",
            "COMET INFO:   Data:\n",
            "COMET INFO:     display_summary_level : 1\n",
            "COMET INFO:     url                   : https://www.comet.ml/siviwe25/general/5c7b397eaa734bf1bfbfd0d26cd0dd69\n",
            "COMET INFO:   Metrics [count]:\n",
            "COMET INFO:     f1 [2]        : 0.036390232010076795\n",
            "COMET INFO:     precision [2] : 0.7926365165058855\n",
            "COMET INFO:     recall [2]    : 0.01862260121724774\n",
            "COMET INFO:   Parameters:\n",
            "COMET INFO:     model_type : SVC\n",
            "COMET INFO:     stratify   : True\n",
            "COMET INFO:   Uploads:\n",
            "COMET INFO:     code                : 1 (18 KB)\n",
            "COMET INFO:     environment details : 1\n",
            "COMET INFO:     filename            : 1\n",
            "COMET INFO:     installed packages  : 1\n",
            "COMET INFO:     notebook            : 1\n",
            "COMET INFO:     os packages         : 1\n",
            "COMET INFO: ---------------------------\n",
            "COMET INFO: Uploading stats to Comet before program termination (may take several seconds)\n"
          ],
          "name": "stderr"
        }
      ]
    },
    {
      "cell_type": "markdown",
      "metadata": {
        "id": "IhfmzFB5zNbf",
        "colab_type": "text"
      },
      "source": [
        "# Appendix A"
      ]
    },
    {
      "cell_type": "markdown",
      "metadata": {
        "id": "3hNNKTj_zNbf",
        "colab_type": "text"
      },
      "source": [
        "This section contains things that might have not worked, our previous models and some testing we did. Feel free to have a look at everything we attempted. \n"
      ]
    },
    {
      "cell_type": "code",
      "metadata": {
        "id": "iP8ew6_BF7Pv",
        "trusted": true,
        "colab_type": "code",
        "colab": {}
      },
      "source": [
        "#from surprise.model_selection import GridSearchCV\n",
        "#param_grid = {'n_epochs': [5, 10],'lr_all': [0.002, 0.005],'reg_all': [0.4, 0.6]}\n",
        "#gs = GridSearchCV(SVD, param_grid, measures=['rmse', 'mae'], cv=3)\n",
        "#gs.fit(data)\n",
        "\n",
        "# best RMSE score\n",
        "#print(gs.best_score['rmse'])\n",
        "\n",
        "# combination of parameters that gave the best RMSE score\n",
        "#print(gs.best_params['rmse'])\n"
      ],
      "execution_count": null,
      "outputs": []
    },
    {
      "cell_type": "code",
      "metadata": {
        "id": "nZhlvHoT8A0S",
        "trusted": true,
        "colab_type": "code",
        "colab": {}
      },
      "source": [
        "#from surprise.model_selection import train_test_split\n",
        "\n",
        "# Setting the data variable and using the Reader() object.\n",
        "#data = Dataset.load_from_df(train[['userId', 'movieId', 'rating']], reader=reader)\n",
        "\n",
        "# sample random trainset and testset\n",
        "# test set is made of 25% of the ratings.\n",
        "#trainset, testset = train_test_split(data, test_size=.25)\n",
        "\n",
        "# We'll use the famous SVD algorithm.\n",
        "#algo = SVD(n_epochs=10, lr_all=0.005, reg_all=0.4)\n",
        "\n",
        "# Train the algorithm on the trainset, and predict ratings for the testset\n",
        "#algo.fit(trainset)\n",
        "#predictions = algo.test(testset)\n",
        "\n",
        "# Then compute RMSE\n",
        "#accuracy.rmse(predictions)"
      ],
      "execution_count": null,
      "outputs": []
    },
    {
      "cell_type": "code",
      "metadata": {
        "id": "AbfFsEcqIulQ",
        "trusted": true,
        "colab_type": "code",
        "colab": {}
      },
      "source": [
        "# Using algorithm with best 'rmse'\n",
        "#algo = gs.best_estimator['rmse']\n",
        "\n",
        "# Fitting it to our full trainset\n",
        "#algo.fit(data.build_full_trainset())"
      ],
      "execution_count": null,
      "outputs": []
    },
    {
      "cell_type": "code",
      "metadata": {
        "id": "2b5Lruq-9gNQ",
        "trusted": true,
        "colab_type": "code",
        "colab": {}
      },
      "source": [
        "#ratings = []\n",
        "#for _, row in test.iterrows():ratings.append(algo.predict(row.userId, row.movieId).est)\n",
        "\n",
        "#ratings"
      ],
      "execution_count": null,
      "outputs": []
    },
    {
      "cell_type": "code",
      "metadata": {
        "id": "1vot8YY7LOQk",
        "trusted": true,
        "colab_type": "code",
        "colab": {}
      },
      "source": [
        "#results_df = pd.DataFrame.from_dict(gs.cv_results)\n",
        "#results_df"
      ],
      "execution_count": null,
      "outputs": []
    },
    {
      "cell_type": "markdown",
      "metadata": {
        "id": "D35SH_2PurW-",
        "colab_type": "text"
      },
      "source": [
        "Looking at the other data:"
      ]
    },
    {
      "cell_type": "code",
      "metadata": {
        "id": "oB8jn_v5uahf",
        "trusted": true,
        "colab_type": "code",
        "colab": {}
      },
      "source": [
        "#movies = pd.read_csv('/kaggle/input/edsa-recommender-system-predict/movies.csv')\n",
        "#genome_scores = pd.read_csv('/kaggle/input/edsa-recommender-system-predict/genome_scores.csv')\n",
        "#genome_tags = pd.read_csv('/kaggle/input/edsa-recommender-system-predict/genome_tags.csv')\n",
        "#imdb_data = pd.read_csv('/kaggle/input/edsa-recommender-system-predict/imdb_data.csv')\n",
        "#tags = pd.read_csv('/kaggle/input/edsa-recommender-system-predict/tags.csv')\n",
        "#links = pd.read_csv('/kaggle/input/edsa-recommender-system-predict/links.csv')\n",
        "#sample = pd.read_csv('/kaggle/input/edsa-recommender-system-predict/sample_submission.csv')\n"
      ],
      "execution_count": null,
      "outputs": []
    }
  ]
}